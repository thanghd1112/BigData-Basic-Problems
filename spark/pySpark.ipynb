{
  "nbformat": 4,
  "nbformat_minor": 0,
  "metadata": {
    "colab": {
      "provenance": [],
      "gpuType": "T4"
    },
    "kernelspec": {
      "name": "python3",
      "display_name": "Python 3"
    },
    "language_info": {
      "name": "python"
    },
    "accelerator": "GPU"
  },
  "cells": [
    {
      "cell_type": "code",
      "source": [
        "from google.colab import drive\n",
        "drive.mount('/content/drive')\n"
      ],
      "metadata": {
        "colab": {
          "base_uri": "https://localhost:8080/"
        },
        "id": "51QY_t_ubOaU",
        "outputId": "cca1cadd-60c2-4607-fadc-31fa801edc31"
      },
      "execution_count": 91,
      "outputs": [
        {
          "output_type": "stream",
          "name": "stdout",
          "text": [
            "Drive already mounted at /content/drive; to attempt to forcibly remount, call drive.mount(\"/content/drive\", force_remount=True).\n"
          ]
        }
      ]
    },
    {
      "cell_type": "code",
      "source": [
        "!sudo apt update\n",
        "!apt-get install openjdk-8-jdk-headless -qq > /dev/null\n",
        "#Check this site for the latest download link https://www.apache.org/dyn/closer.lua/spark/spark-3.2.1/spark-3.2.1-bin-hadoop3.2.tgz\n",
        "!wget -q https://dlcdn.apache.org/spark/spark-3.2.1/spark-3.2.1-bin-hadoop3.2.tgz\n",
        "!tar xf spark-3.2.1-bin-hadoop3.2.tgz\n",
        "!pip install -q findspark\n",
        "!pip install pyspark\n",
        "!pip install py4j\n",
        "\n",
        "import os\n",
        "import sys\n",
        "# os.environ[\"JAVA_HOME\"] = \"/usr/lib/jvm/java-8-openjdk-amd64\"\n",
        "# os.environ[\"SPARK_HOME\"] = \"/content/spark-3.2.1-bin-hadoop3.2\"\n",
        "\n",
        "\n",
        "import findspark\n",
        "findspark.init()\n",
        "findspark.find()\n",
        "\n",
        "import pyspark\n",
        "\n",
        "from pyspark.sql import DataFrame, SparkSession\n",
        "from typing import List\n",
        "import pyspark.sql.types as T\n",
        "import pyspark.sql.functions as F\n",
        "\n",
        "spark= SparkSession \\\n",
        "       .builder \\\n",
        "       .appName(\"Our First Spark Example\") \\\n",
        "       .getOrCreate()\n",
        "\n",
        "spark"
      ],
      "metadata": {
        "colab": {
          "base_uri": "https://localhost:8080/",
          "height": 549
        },
        "id": "Dk5hPsFN4ilL",
        "outputId": "0c90d578-3b6c-4e84-fa50-f8da149f621c"
      },
      "execution_count": 92,
      "outputs": [
        {
          "output_type": "stream",
          "name": "stdout",
          "text": [
            "Hit:1 https://cloud.r-project.org/bin/linux/ubuntu jammy-cran40/ InRelease\n",
            "Hit:2 http://security.ubuntu.com/ubuntu jammy-security InRelease\n",
            "Hit:3 https://developer.download.nvidia.com/compute/cuda/repos/ubuntu2204/x86_64  InRelease\n",
            "Hit:4 http://archive.ubuntu.com/ubuntu jammy InRelease\n",
            "Hit:5 http://archive.ubuntu.com/ubuntu jammy-updates InRelease\n",
            "Hit:6 http://archive.ubuntu.com/ubuntu jammy-backports InRelease\n",
            "Hit:7 https://ppa.launchpadcontent.net/c2d4u.team/c2d4u4.0+/ubuntu jammy InRelease\n",
            "Hit:8 https://ppa.launchpadcontent.net/deadsnakes/ppa/ubuntu jammy InRelease\n",
            "Hit:9 https://ppa.launchpadcontent.net/graphics-drivers/ppa/ubuntu jammy InRelease\n",
            "Hit:10 https://ppa.launchpadcontent.net/ubuntugis/ppa/ubuntu jammy InRelease\n",
            "Reading package lists... Done\n",
            "Building dependency tree... Done\n",
            "Reading state information... Done\n",
            "86 packages can be upgraded. Run 'apt list --upgradable' to see them.\n",
            "tar: spark-3.2.1-bin-hadoop3.2.tgz: Cannot open: No such file or directory\n",
            "tar: Error is not recoverable: exiting now\n",
            "Requirement already satisfied: pyspark in /usr/local/lib/python3.10/dist-packages (3.5.0)\n",
            "Requirement already satisfied: py4j==0.10.9.7 in /usr/local/lib/python3.10/dist-packages (from pyspark) (0.10.9.7)\n",
            "Requirement already satisfied: py4j in /usr/local/lib/python3.10/dist-packages (0.10.9.7)\n"
          ]
        },
        {
          "output_type": "execute_result",
          "data": {
            "text/plain": [
              "<pyspark.sql.session.SparkSession at 0x7b6efe4bf580>"
            ],
            "text/html": [
              "\n",
              "            <div>\n",
              "                <p><b>SparkSession - in-memory</b></p>\n",
              "                \n",
              "        <div>\n",
              "            <p><b>SparkContext</b></p>\n",
              "\n",
              "            <p><a href=\"http://d8c0b3cef72f:4040\">Spark UI</a></p>\n",
              "\n",
              "            <dl>\n",
              "              <dt>Version</dt>\n",
              "                <dd><code>v3.5.0</code></dd>\n",
              "              <dt>Master</dt>\n",
              "                <dd><code>local[*]</code></dd>\n",
              "              <dt>AppName</dt>\n",
              "                <dd><code>ImageToCSV</code></dd>\n",
              "            </dl>\n",
              "        </div>\n",
              "        \n",
              "            </div>\n",
              "        "
            ]
          },
          "metadata": {},
          "execution_count": 92
        }
      ]
    },
    {
      "cell_type": "code",
      "source": [
        "import os\n",
        "os.listdir('/content/drive/MyDrive/Colab Notebooks/Big_Data/img_txt/')\n"
      ],
      "metadata": {
        "colab": {
          "base_uri": "https://localhost:8080/"
        },
        "id": "SyBDxsnWbWZ4",
        "outputId": "49ae7e76-af65-4aa6-d654-80144e0327e7"
      },
      "execution_count": 94,
      "outputs": [
        {
          "output_type": "execute_result",
          "data": {
            "text/plain": [
              "['txt01.jpg', 'txt02.jpg', 'txt03.jpg']"
            ]
          },
          "metadata": {},
          "execution_count": 94
        }
      ]
    },
    {
      "cell_type": "code",
      "source": [
        "!sudo apt-get install tesseract-ocr\n"
      ],
      "metadata": {
        "colab": {
          "base_uri": "https://localhost:8080/"
        },
        "id": "DP-_L9iw5Izl",
        "outputId": "4ba0b09f-0e24-434f-dcb5-94507d1722aa"
      },
      "execution_count": 95,
      "outputs": [
        {
          "output_type": "stream",
          "name": "stdout",
          "text": [
            "Reading package lists... Done\n",
            "Building dependency tree... Done\n",
            "Reading state information... Done\n",
            "tesseract-ocr is already the newest version (4.1.1-2.1build1).\n",
            "0 upgraded, 0 newly installed, 0 to remove and 86 not upgraded.\n"
          ]
        }
      ]
    },
    {
      "cell_type": "code",
      "source": [
        "!pip install pytesseract\n"
      ],
      "metadata": {
        "colab": {
          "base_uri": "https://localhost:8080/"
        },
        "id": "qNxuDdFv5HYp",
        "outputId": "d0689038-996c-4e83-99b5-bf405c0743cb"
      },
      "execution_count": 96,
      "outputs": [
        {
          "output_type": "stream",
          "name": "stdout",
          "text": [
            "Requirement already satisfied: pytesseract in /usr/local/lib/python3.10/dist-packages (0.3.10)\n",
            "Requirement already satisfied: packaging>=21.3 in /usr/local/lib/python3.10/dist-packages (from pytesseract) (23.2)\n",
            "Requirement already satisfied: Pillow>=8.0.0 in /usr/local/lib/python3.10/dist-packages (from pytesseract) (9.4.0)\n"
          ]
        }
      ]
    },
    {
      "cell_type": "code",
      "source": [
        "from pyspark.sql import SparkSession\n",
        "from pyspark.sql.functions import input_file_name, udf\n",
        "from pyspark.sql.types import StringType\n",
        "from base64 import b64encode\n",
        "from pytesseract import image_to_string\n",
        "from PIL import Image\n",
        "import io\n",
        "\n",
        "# Khởi tạo SparkSession\n",
        "spark = SparkSession.builder.appName('OCR').getOrCreate()\n",
        "\n",
        "# Đường dẫn đến thư mục chứa ảnh trên Google Drive\n",
        "image_folder_path = \"/content/drive/MyDrive/Colab Notebooks/Big_Data/img_txt/\"\n",
        "\n",
        "# Đọc tất cả các file ảnh từ thư mục đã cho thành DataFrame\n",
        "image_df = spark.read.format(\"binaryFile\").option(\"pathGlobFilter\", \"*.jpg\").load(image_folder_path)\n",
        "\n",
        "# Thêm tên tệp vào DataFrame\n",
        "image_df = image_df.withColumn(\"filename\", input_file_name())\n",
        "\n",
        "# Chuyển đổi hình ảnh thành văn bản\n",
        "def ocr_func(content):\n",
        "    image = Image.open(io.BytesIO(content))\n",
        "    text = image_to_string(image, lang='eng')  # Sử dụng ngôn ngữ Tiếng Anh\n",
        "    return text\n",
        "\n",
        "# Định nghĩa một UDF để chuyển đổi nội dung nhị phân thành chuỗi được mã hóa base64\n",
        "binary_to_base64_udf = udf(lambda content: b64encode(content).decode('utf-8'), StringType())\n",
        "\n",
        "# Áp dụng hàm OCR và chuyển đổi nội dung nhị phân thành chuỗi được mã hóa base64\n",
        "text_df = image_df.withColumn(\"text\", udf(ocr_func, StringType())(image_df[\"content\"]))\n",
        "text_df = text_df.withColumn(\"content_base64\", binary_to_base64_udf(text_df[\"content\"]))\n"
      ],
      "metadata": {
        "id": "OYETj81u1dDV"
      },
      "execution_count": 97,
      "outputs": []
    },
    {
      "cell_type": "code",
      "source": [
        "text_df = text_df.drop(\"content\")\n",
        "# Lưu DataFrame dưới dạng CSV\n",
        "text_df.write.option(\"header\", \"true\").csv(\"/content/drive/MyDrive/Colab Notebooks/Big_Data/img_txt/image_txt.csv\")\n"
      ],
      "metadata": {
        "id": "-I1WLrjXCsvf"
      },
      "execution_count": 98,
      "outputs": []
    },
    {
      "cell_type": "code",
      "source": [
        "text_df.show()"
      ],
      "metadata": {
        "colab": {
          "base_uri": "https://localhost:8080/"
        },
        "id": "yD5hm1Di_tTe",
        "outputId": "5edd4328-3df6-48fe-b782-c614f579bff2"
      },
      "execution_count": 99,
      "outputs": [
        {
          "output_type": "stream",
          "name": "stdout",
          "text": [
            "+--------------------+-------------------+------+--------------------+--------------------+--------------------+\n",
            "|                path|   modificationTime|length|            filename|                text|      content_base64|\n",
            "+--------------------+-------------------+------+--------------------+--------------------+--------------------+\n",
            "|file:/content/dri...|2024-01-30 15:48:22|142623|file:///content/d...|Everyone has thei...|/9j/4AAQSkZJRgABA...|\n",
            "|file:/content/dri...|2024-01-30 15:18:36|107659|file:///content/d...|Hi everybody! All...|/9j/4AAQSkZJRgABA...|\n",
            "|file:/content/dri...|2024-01-30 15:38:37| 99636|file:///content/d...|Hi everybody! All...|/9j/4AAQSkZJRgABA...|\n",
            "+--------------------+-------------------+------+--------------------+--------------------+--------------------+\n",
            "\n"
          ]
        }
      ]
    },
    {
      "cell_type": "code",
      "source": [
        "text_df.select( \"modificationTime\", \"length\", \"text\").show(5, truncate=False)"
      ],
      "metadata": {
        "colab": {
          "base_uri": "https://localhost:8080/"
        },
        "id": "xaZ5i4TZ6NA6",
        "outputId": "9d82e38e-8af1-49c6-8a38-27c8d06b3b5d"
      },
      "execution_count": 100,
      "outputs": [
        {
          "output_type": "stream",
          "name": "stdout",
          "text": [
            "+-------------------+------+---------------------------------------------------------------------------------------------------------------------------------------------------------------------------------------------------------------------------------------------------------------------------------------------------------------------------------------------------------------------------------------------------------------------------------------------------------------------------------------------------------------------------------------------------------------------------------------------------------------------------------------------------------------------------------------------------------------------------------------------------------------------------------------------------------------------------------------------------------------------------------------------------------------------------------------------------------------------------------------------------------------------------------------------------------------------------------------------------------------------------------------------------------------------------------------------------------------------------------------------------------------------------------------------------------------------------------+\n",
            "|modificationTime   |length|text                                                                                                                                                                                                                                                                                                                                                                                                                                                                                                                                                                                                                                                                                                                                                                                                                                                                                                                                                                                                                                                                                                                                                                                                                                                                                                                             |\n",
            "+-------------------+------+---------------------------------------------------------------------------------------------------------------------------------------------------------------------------------------------------------------------------------------------------------------------------------------------------------------------------------------------------------------------------------------------------------------------------------------------------------------------------------------------------------------------------------------------------------------------------------------------------------------------------------------------------------------------------------------------------------------------------------------------------------------------------------------------------------------------------------------------------------------------------------------------------------------------------------------------------------------------------------------------------------------------------------------------------------------------------------------------------------------------------------------------------------------------------------------------------------------------------------------------------------------------------------------------------------------------------------+\n",
            "|2024-01-30 15:48:22|142623|Everyone has their own habits, for example my friend has a habit of playing on the phone after waking up, and | have a habit of\\nreading books before going to sleep. This habit may have been formed since | was young; my mother read me bedtime stories\\nevery night when | was not able to read. They could be fairy tales, parables, poems or lyrics. When | started reading well, my\\nmother let me read my favorite books myself. At that time | used to read The famous detective Conan and Doraemon, and my\\nbookcase was almost full with comics. Until | was older, my habit of reading before bed time was still maintained. Instead of\\njust reading comic books like before, now | choose to read more genres, such as short stories by domestic and international\\nwriters, ghost stories, Kim Dung's novels, books written by famous people such as Dreams from My Father, The Audacity of\\nHope by former US President Barack Obama, Living History by Hillary Clinton ... Reading before bed time is not simply a habit,\\nbecause it helped me a lot in my life. It helps me to improve my memory, learn more useful knowledge, and relax my mind\\nafter a long and exhausting day. | think that this habit is wonderful, and | am a lucky person to be both entertaining and\\n\\nlearning at the same time.\\n\\f|\n",
            "|2024-01-30 15:18:36|107659|Hi everybody! Allow me to introduce myself. My name is Ngoc, | am 13 years old in Hanoi and a student of Gia Thy secondary\\nschool. My subject is mathematics. Currently, | am living with my parents and a younger brother. | am a quiet, slightly childish\\nwoman but also practical, skillful and romantic. From an educational point of view, | am diligent, intelligent and patient with\\nstudying or even working and | never give up even though | know a lot of difficulties await me in the future. My hobby is jewelry\\ncollection, afternoon walks, listening to music and watching movies. In particular, | really like watching how to make a pastry\\nvideo from the internet. | also like to play badminton and cycling. My dream is to become a successful businesswoman so\\nnow | am trying to learn as much as possible to get into my favorite subject. And | also hope that my dream will come true and\\n\\n| will definitely do everything to make it a reality.\\n\\f                                                                                                                                                                                                                                                                                                                                          |\n",
            "|2024-01-30 15:38:37|99636 |Hi everybody! Allow me to introduce myself. My name is Ngoc, | am 13 years old in Hanoi and a student of Gia Thy secondary\\nschool. My subject is mathematics. Currently, | am living with my parents and a younger brother. | am a quiet, slightly childish\\nwoman but also practical, skillful and romantic. From an educational point of view, | am diligent, intelligent and patient with\\nstudying or even working and | never give up even though | know a lot of difficulties await me in the future. My hobby is jewelry\\ncollection, afternoon walks, listening to music and watching movies. In particular, | really like watching how to make a pastry\\nvideo from the internet. | also like to play badminton and cycling. My dream is to become a successful businesswoman so\\nnow | am trying to learn as much as possible to get into my favorite subject. And | also hope that my dream will come true and\\n\\n| will definitely do everything to make it a reality.\\n\\f                                                                                                                                                                                                                                                                                                                                          |\n",
            "+-------------------+------+---------------------------------------------------------------------------------------------------------------------------------------------------------------------------------------------------------------------------------------------------------------------------------------------------------------------------------------------------------------------------------------------------------------------------------------------------------------------------------------------------------------------------------------------------------------------------------------------------------------------------------------------------------------------------------------------------------------------------------------------------------------------------------------------------------------------------------------------------------------------------------------------------------------------------------------------------------------------------------------------------------------------------------------------------------------------------------------------------------------------------------------------------------------------------------------------------------------------------------------------------------------------------------------------------------------------------------+\n",
            "\n"
          ]
        }
      ]
    }
  ]
}