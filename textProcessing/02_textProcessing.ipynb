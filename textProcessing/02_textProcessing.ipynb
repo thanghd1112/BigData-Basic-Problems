{
  "nbformat": 4,
  "nbformat_minor": 0,
  "metadata": {
    "colab": {
      "provenance": []
    },
    "kernelspec": {
      "name": "python3",
      "display_name": "Python 3"
    },
    "language_info": {
      "name": "python"
    }
  },
  "cells": [
    {
      "cell_type": "code",
      "execution_count": null,
      "metadata": {
        "colab": {
          "base_uri": "https://localhost:8080/"
        },
        "id": "dgffJjGN6oB2",
        "outputId": "67e90b16-a4b0-4032-d2ea-114c01429cd8"
      },
      "outputs": [
        {
          "output_type": "stream",
          "name": "stdout",
          "text": [
            "Mounted at /content/drive\n"
          ]
        }
      ],
      "source": [
        "from google.colab import drive\n",
        "drive.mount('/content/drive')"
      ]
    },
    {
      "cell_type": "code",
      "source": [
        "# Đếm số lượng từ cần tìm trong data\n",
        "keyword = input(\"Nhập từ cần tìm (có phân biệt chữ IN HOA và chữ thường): \")\n",
        "\n",
        "file_path = '/content/drive/MyDrive/BIG DATA/data.txt'\n",
        "\n",
        "try:\n",
        "    with open(file_path, 'r', encoding='utf-8') as file:\n",
        "        content = file.read()\n",
        "    count = content.split().count(keyword)\n",
        "\n",
        "    print(f'Số lần từ \"{keyword}\" xuất hiện trong văn bản: {count}')\n",
        "except FileNotFoundError:\n",
        "    print(f'Tệp {file_path} không tồn tại.')"
      ],
      "metadata": {
        "colab": {
          "base_uri": "https://localhost:8080/"
        },
        "id": "ALtXxCRnICld",
        "outputId": "7d4bd324-ffc9-4a01-97c3-971644b32018"
      },
      "execution_count": null,
      "outputs": [
        {
          "output_type": "stream",
          "name": "stdout",
          "text": [
            "Nhập từ cần tìm (có phân biệt chữ IN HOA và chữ thường): 1\n",
            "Số lần từ \"1\" xuất hiện trong văn bản: 0\n"
          ]
        }
      ]
    },
    {
      "cell_type": "code",
      "source": [
        "#Đảo ngược từng câu\n",
        "with open(file_path, 'r', encoding='utf-8') as file:\n",
        "    content = file.read()\n",
        "output_file_path = '/content/drive/MyDrive/BIG DATA/Result1.txt'\n",
        "sentences = content.split('.')\n",
        "\n",
        "reversed_text = ''\n",
        "for sentence in sentences:\n",
        "    reversed_sentence = ' '.join(reversed(sentence.split()))\n",
        "    reversed_text += reversed_sentence + '.' + '\\n'\n",
        "    with open(output_file_path, 'w', encoding='utf-8') as output_file:\n",
        "        output_file.write(reversed_text)\n",
        "\n",
        "print('Văn bản bị đảo ngược:')\n",
        "print(reversed_text)\n"
      ],
      "metadata": {
        "colab": {
          "base_uri": "https://localhost:8080/"
        },
        "id": "cs5oYfhJJHA2",
        "outputId": "b7f748a6-c6fc-4230-9269-0627827c3640"
      },
      "execution_count": null,
      "outputs": [
        {
          "output_type": "stream",
          "name": "stdout",
          "text": [
            "Văn bản bị đảo ngược:\n",
            "possibilities endless of world a lies life, daily of rhythm the with hum streets the and clouds the touch skyscrapers the where city, bustling a of heart the In.\n",
            "existence urban of essence very the defines that mosaic a creates resilience, and triumph of stories with woven thread each cultures, of tapestry vibrant The.\n",
            "journeys daily their on embark life of walks all from people cityscape, the upon glow golden its casting horizon, the over rises sun the As.\n",
            "stage center takes dreams and traditions, languages, of blend harmonious the where diversity, of ballet the for stage a become streets The.\n",
            "delights culinary their share to ready shop, up set vendors street and possibilities, of maze the navigate backpacks with students purposefully, stride executives Business.\n",
            "discovery await gems hidden bustle, and hustle the Amidst.\n",
            "stories sharing friends of laughter the with mingles coffee brewed freshly of aroma the where chaos, the from respite a offer alleys narrow in away tucked cafes Quaint.\n",
            "jungle urban the amidst sanctuary a providing tranquility, seeking those beckon flowers blossoming with adorned Parks.\n",
            "ingenuity human to testaments as stand that structures iconic — landmarks its through resonates heartbeat city's The.\n",
            "eras bygone of secrets whisper monuments historic while brilliance, architectural of tales telling heavens, the for reach Skyscrapers.\n",
            "moment passing each with evolves that society a of memory collective the preserving art, of tapestry vibrant the showcase galleries and Museums.\n",
            "persist challenges progress, of veneer the beneath Yet,.\n",
            "innovation embracing and tradition preserving between balance delicate the and inclusivity, for struggle the poverty, and wealth of dichotomy the with grapples city The.\n",
            "future city's the shaping of responsibility shared the on reflect to inhabitants its urging streets, the through reverberate challenges these of echoes The.\n",
            "sky the piercing skyscrapers like flight take dreams metropolis, this In.\n",
            "universe the of mysteries the unlocking of dreams scientist the and masterpiece, a imagines artist the business, thriving a envisions entrepreneur The.\n",
            "collide inspiration and innovation where creativity of crucible a becomes city the ambition, of symphony a creating converge, aspirations As.\n",
            "city the of fabric the into story unique their weaving thread, a is individual each life, urban of tapestry the In.\n",
            "diversity of celebration the and progress of pursuit the by united community a of spirit the captures that epic ever-evolving an time, transcends that narrative a form they Together,.\n",
            "come to yet generations of dreams the reflects skyline its where future a promising evolve, to continues aspiration, and resilience human to testament living a city, The.\n",
            "discovered be to waiting enchantment of world a lies leaves, the through whispers breeze the and sky the kisses sun the where embrace, nature's of heart the In Nature of Wonders the Exploring Title:.\n",
            "season every in unfolds masterpiece whose artist an is nature shade, every of hues with landscape the paint that flowers vibrant the to dance rhythmic in sway that trees towering the From.\n",
            "flowers awakening of petals dew-kissed the touch gently sunlight of rays first the and day, new a welcomes birdsong of symphony the breaks, dawn As.\n",
            "senses the awakens that ambiance magical a creating mist, morning the with rises earth the of fragrance The.\n",
            "tell to story a with each creatures, elusive encounter may one forests, dense through Journeying.\n",
            "trunks tree the up scampers squirrel playful the and foliage, verdant the through leaps gracefully deer graceful The.\n",
            "ecosystem the of balance delicate the in role vital a playing each small, and big characters with filled is theatre Nature's.\n",
            "nature of grandeur and power raw the witness can one mountains, majestic the to forests the of greenery lush the from Moving.\n",
            "pass that eons the and seasons changing the witnessing time, of sentinels as stand crowns, snow-capped with adorned peaks, towering The.\n",
            "above sky azure the reflecting landscape, the through meander rivers crystal-clear valleys, the to Descending.\n",
            "soul the captivates that picture serene a paints nature, of melodies the with harmonizing water, of flow rhythmic The.\n",
            "wings delicate their with air the painting if as nectar sipping bloom, to bloom from flit gracefully butterflies meadow, flower-filled a of heart the In.\n",
            "life of circle the to contributing pollen, collecting busily harmony, in hum Bees.\n",
            "again once transforms nature sets, sun the As.\n",
            "below world the upon glow warm a casting purple, and pink, orange, of hues with ablaze canvas, a into transforms sky The.\n",
            "stage center takes observer, silent a moon, the and emerge, creatures nocturnal The.\n",
            "interconnectedness and resilience, beauty, of tale a tells chapter every nature, of symphony this In.\n",
            "world natural our of details intricate the at marvel to and life, sustains that balance delicate the cherish to explorers, curious be to us invite nature of wonders The.\n",
            "us surrounds that beauty breathtaking the of us reminding inspiration, endless of source a is nature conclusion, In.\n",
            "home call we world extraordinary the for gratitude and humility, self-discovery, of journey a is it adventure; an merely not is nature of wonders the Exploring.\n",
            ".\n",
            "\n"
          ]
        }
      ]
    },
    {
      "cell_type": "code",
      "source": [
        "# Đảo ngược câu chẵn và giữ nguyên câu lẻ\n",
        "output_file_path_1 ='/content/drive/MyDrive/BIG DATA/Result2.txt'\n",
        "reversed_text_1 = ''\n",
        "for i, sentence in enumerate(sentences):\n",
        "      if (i + 1)  % 2 == 0:\n",
        "          reversed_sentence = ' '.join(reversed(sentence.split()))\n",
        "      else:\n",
        "          reversed_sentence = sentence\n",
        "      reversed_text_1 += reversed_sentence + '.' + '\\n'\n",
        "print(reversed_text_1)\n",
        "with open(output_file_path_1, 'w', encoding='utf-8') as output_file:\n",
        "        output_file.write(reversed_text)"
      ],
      "metadata": {
        "colab": {
          "base_uri": "https://localhost:8080/"
        },
        "id": "jaPMMyAPJ7eA",
        "outputId": "650ecb94-c4ed-4f13-f998-234691ffa110"
      },
      "execution_count": null,
      "outputs": [
        {
          "output_type": "stream",
          "name": "stdout",
          "text": [
            "In the heart of a bustling city, where the skyscrapers touch the clouds and the streets hum with the rhythm of daily life, lies a world of endless possibilities.\n",
            "existence urban of essence very the defines that mosaic a creates resilience, and triumph of stories with woven thread each cultures, of tapestry vibrant The.\n",
            "\n",
            "\n",
            "As the sun rises over the horizon, casting its golden glow upon the cityscape, people from all walks of life embark on their daily journeys.\n",
            "stage center takes dreams and traditions, languages, of blend harmonious the where diversity, of ballet the for stage a become streets The.\n",
            " Business executives stride purposefully, students with backpacks navigate the maze of possibilities, and street vendors set up shop, ready to share their culinary delights.\n",
            "discovery await gems hidden bustle, and hustle the Amidst.\n",
            " Quaint cafes tucked away in narrow alleys offer a respite from the chaos, where the aroma of freshly brewed coffee mingles with the laughter of friends sharing stories.\n",
            "jungle urban the amidst sanctuary a providing tranquility, seeking those beckon flowers blossoming with adorned Parks.\n",
            "\n",
            "\n",
            "The city's heartbeat resonates through its landmarks — iconic structures that stand as testaments to human ingenuity.\n",
            "eras bygone of secrets whisper monuments historic while brilliance, architectural of tales telling heavens, the for reach Skyscrapers.\n",
            " Museums and galleries showcase the vibrant tapestry of art, preserving the collective memory of a society that evolves with each passing moment.\n",
            "persist challenges progress, of veneer the beneath Yet,.\n",
            " The city grapples with the dichotomy of wealth and poverty, the struggle for inclusivity, and the delicate balance between preserving tradition and embracing innovation.\n",
            "future city's the shaping of responsibility shared the on reflect to inhabitants its urging streets, the through reverberate challenges these of echoes The.\n",
            "\n",
            "\n",
            "In this metropolis, dreams take flight like skyscrapers piercing the sky.\n",
            "universe the of mysteries the unlocking of dreams scientist the and masterpiece, a imagines artist the business, thriving a envisions entrepreneur The.\n",
            " As aspirations converge, creating a symphony of ambition, the city becomes a crucible of creativity where innovation and inspiration collide.\n",
            "city the of fabric the into story unique their weaving thread, a is individual each life, urban of tapestry the In.\n",
            " Together, they form a narrative that transcends time, an ever-evolving epic that captures the spirit of a community united by the pursuit of progress and the celebration of diversity.\n",
            "come to yet generations of dreams the reflects skyline its where future a promising evolve, to continues aspiration, and resilience human to testament living a city, The.\n",
            "\n",
            "\n",
            "Title: Exploring the Wonders of Nature\n",
            "\n",
            "In the heart of nature's embrace, where the sun kisses the sky and the breeze whispers through the leaves, lies a world of enchantment waiting to be discovered.\n",
            "season every in unfolds masterpiece whose artist an is nature shade, every of hues with landscape the paint that flowers vibrant the to dance rhythmic in sway that trees towering the From.\n",
            "\n",
            "\n",
            "As dawn breaks, the symphony of birdsong welcomes a new day, and the first rays of sunlight gently touch the dew-kissed petals of awakening flowers.\n",
            "senses the awakens that ambiance magical a creating mist, morning the with rises earth the of fragrance The.\n",
            "\n",
            "\n",
            "Journeying through dense forests, one may encounter elusive creatures, each with a story to tell.\n",
            "trunks tree the up scampers squirrel playful the and foliage, verdant the through leaps gracefully deer graceful The.\n",
            " Nature's theatre is filled with characters big and small, each playing a vital role in the delicate balance of the ecosystem.\n",
            "nature of grandeur and power raw the witness can one mountains, majestic the to forests the of greenery lush the from Moving.\n",
            " The towering peaks, adorned with snow-capped crowns, stand as sentinels of time, witnessing the changing seasons and the eons that pass.\n",
            "above sky azure the reflecting landscape, the through meander rivers crystal-clear valleys, the to Descending.\n",
            " The rhythmic flow of water, harmonizing with the melodies of nature, paints a serene picture that captivates the soul.\n",
            "wings delicate their with air the painting if as nectar sipping bloom, to bloom from flit gracefully butterflies meadow, flower-filled a of heart the In.\n",
            " Bees hum in harmony, busily collecting pollen, contributing to the circle of life.\n",
            "again once transforms nature sets, sun the As.\n",
            " The sky transforms into a canvas, ablaze with hues of orange, pink, and purple, casting a warm glow upon the world below.\n",
            "stage center takes observer, silent a moon, the and emerge, creatures nocturnal The.\n",
            "\n",
            "\n",
            "In this symphony of nature, every chapter tells a tale of beauty, resilience, and interconnectedness.\n",
            "world natural our of details intricate the at marvel to and life, sustains that balance delicate the cherish to explorers, curious be to us invite nature of wonders The.\n",
            "\n",
            "\n",
            "In conclusion, nature is a source of endless inspiration, reminding us of the breathtaking beauty that surrounds us.\n",
            "home call we world extraordinary the for gratitude and humility, self-discovery, of journey a is it adventure; an merely not is nature of wonders the Exploring.\n",
            ".\n",
            "\n"
          ]
        }
      ]
    },
    {
      "cell_type": "code",
      "source": [
        "# Đảo ngược câu đầu tiên và những câu có số thứ tự chia hết cho 5 và nhỏ hơn 10\n",
        "output_file_path_2 = '/content/drive/MyDrive/BIG DATA/Result2.txt'\n",
        "reversed_text_2 = ''\n",
        "for i, sentence in enumerate(sentences):\n",
        "        if (i+1) % 5 == 0 and i < 10 or i == 0:\n",
        "            reversed_sentence = ' '.join(reversed(sentence.split())) + '.' + '\\n'\n",
        "        else:  # Giữ nguyên các câu khác\n",
        "            reversed_sentence = sentence +'.' + '\\n'\n",
        "        reversed_text_2 += reversed_sentence\n",
        "\n",
        "print(reversed_text_2)\n",
        "with open(output_file_path_2, 'w', encoding='utf-8') as output_file:\n",
        "        output_file.write(reversed_text)"
      ],
      "metadata": {
        "colab": {
          "base_uri": "https://localhost:8080/"
        },
        "id": "Rftz41dvkuoM",
        "outputId": "b76f1cda-bed2-4b58-da92-ea6f2f058739"
      },
      "execution_count": null,
      "outputs": [
        {
          "output_type": "stream",
          "name": "stdout",
          "text": [
            "possibilities endless of world a lies life, daily of rhythm the with hum streets the and clouds the touch skyscrapers the where city, bustling a of heart the In.\n",
            " The vibrant tapestry of cultures, each thread woven with stories of triumph and resilience, creates a mosaic that defines the very essence of urban existence.\n",
            "\n",
            "\n",
            "As the sun rises over the horizon, casting its golden glow upon the cityscape, people from all walks of life embark on their daily journeys.\n",
            " The streets become a stage for the ballet of diversity, where the harmonious blend of languages, traditions, and dreams takes center stage.\n",
            "delights culinary their share to ready shop, up set vendors street and possibilities, of maze the navigate backpacks with students purposefully, stride executives Business.\n",
            "\n",
            "\n",
            "Amidst the hustle and bustle, hidden gems await discovery.\n",
            " Quaint cafes tucked away in narrow alleys offer a respite from the chaos, where the aroma of freshly brewed coffee mingles with the laughter of friends sharing stories.\n",
            " Parks adorned with blossoming flowers beckon those seeking tranquility, providing a sanctuary amidst the urban jungle.\n",
            "\n",
            "\n",
            "The city's heartbeat resonates through its landmarks — iconic structures that stand as testaments to human ingenuity.\n",
            "eras bygone of secrets whisper monuments historic while brilliance, architectural of tales telling heavens, the for reach Skyscrapers.\n",
            " Museums and galleries showcase the vibrant tapestry of art, preserving the collective memory of a society that evolves with each passing moment.\n",
            "\n",
            "\n",
            "Yet, beneath the veneer of progress, challenges persist.\n",
            " The city grapples with the dichotomy of wealth and poverty, the struggle for inclusivity, and the delicate balance between preserving tradition and embracing innovation.\n",
            " The echoes of these challenges reverberate through the streets, urging its inhabitants to reflect on the shared responsibility of shaping the city's future.\n",
            "\n",
            "\n",
            "In this metropolis, dreams take flight like skyscrapers piercing the sky.\n",
            " The entrepreneur envisions a thriving business, the artist imagines a masterpiece, and the scientist dreams of unlocking the mysteries of the universe.\n",
            " As aspirations converge, creating a symphony of ambition, the city becomes a crucible of creativity where innovation and inspiration collide.\n",
            "\n",
            "\n",
            "In the tapestry of urban life, each individual is a thread, weaving their unique story into the fabric of the city.\n",
            " Together, they form a narrative that transcends time, an ever-evolving epic that captures the spirit of a community united by the pursuit of progress and the celebration of diversity.\n",
            " The city, a living testament to human resilience and aspiration, continues to evolve, promising a future where its skyline reflects the dreams of generations yet to come.\n",
            "\n",
            "\n",
            "Title: Exploring the Wonders of Nature\n",
            "\n",
            "In the heart of nature's embrace, where the sun kisses the sky and the breeze whispers through the leaves, lies a world of enchantment waiting to be discovered.\n",
            " From the towering trees that sway in rhythmic dance to the vibrant flowers that paint the landscape with hues of every shade, nature is an artist whose masterpiece unfolds in every season.\n",
            "\n",
            "\n",
            "As dawn breaks, the symphony of birdsong welcomes a new day, and the first rays of sunlight gently touch the dew-kissed petals of awakening flowers.\n",
            " The fragrance of the earth rises with the morning mist, creating a magical ambiance that awakens the senses.\n",
            "\n",
            "\n",
            "Journeying through dense forests, one may encounter elusive creatures, each with a story to tell.\n",
            " The graceful deer gracefully leaps through the verdant foliage, and the playful squirrel scampers up the tree trunks.\n",
            " Nature's theatre is filled with characters big and small, each playing a vital role in the delicate balance of the ecosystem.\n",
            "\n",
            "\n",
            "Moving from the lush greenery of the forests to the majestic mountains, one can witness the raw power and grandeur of nature.\n",
            " The towering peaks, adorned with snow-capped crowns, stand as sentinels of time, witnessing the changing seasons and the eons that pass.\n",
            "\n",
            "\n",
            "Descending to the valleys, crystal-clear rivers meander through the landscape, reflecting the azure sky above.\n",
            " The rhythmic flow of water, harmonizing with the melodies of nature, paints a serene picture that captivates the soul.\n",
            "\n",
            "\n",
            "In the heart of a flower-filled meadow, butterflies gracefully flit from bloom to bloom, sipping nectar as if painting the air with their delicate wings.\n",
            " Bees hum in harmony, busily collecting pollen, contributing to the circle of life.\n",
            "\n",
            "\n",
            "As the sun sets, nature transforms once again.\n",
            " The sky transforms into a canvas, ablaze with hues of orange, pink, and purple, casting a warm glow upon the world below.\n",
            " The nocturnal creatures emerge, and the moon, a silent observer, takes center stage.\n",
            "\n",
            "\n",
            "In this symphony of nature, every chapter tells a tale of beauty, resilience, and interconnectedness.\n",
            " The wonders of nature invite us to be curious explorers, to cherish the delicate balance that sustains life, and to marvel at the intricate details of our natural world.\n",
            "\n",
            "\n",
            "In conclusion, nature is a source of endless inspiration, reminding us of the breathtaking beauty that surrounds us.\n",
            " Exploring the wonders of nature is not merely an adventure; it is a journey of self-discovery, humility, and gratitude for the extraordinary world we call home.\n",
            ".\n",
            "\n"
          ]
        }
      ]
    },
    {
      "cell_type": "code",
      "source": [
        "# Đảo ngược từng ký tự trong mỗi câu\n",
        "output_file_path_3 = '/content/drive/MyDrive/BIG DATA/Result3.txt'\n",
        "reversed_text_3 = ''\n",
        "for sentence in sentences:\n",
        "  reversed_sentence = ' '.join([''.join(reversed(word)) for word in sentence.split()])\n",
        "  reversed_text_3 += reversed_sentence + '.' + '\\n'\n",
        "\n",
        "print(reversed_text_3)\n",
        "with open(output_file_path_3, 'w', encoding='utf-8') as output_file:\n",
        "        output_file.write(reversed_text)"
      ],
      "metadata": {
        "colab": {
          "base_uri": "https://localhost:8080/"
        },
        "id": "KHskLIwcsWEG",
        "outputId": "07895bf9-3520-408d-ad67-717f4c87ab51"
      },
      "execution_count": null,
      "outputs": [
        {
          "output_type": "stream",
          "name": "stdout",
          "text": [
            "nI eht traeh fo a gniltsub ,ytic erehw eht sreparcsyks hcuot eht sduolc dna eht steerts muh htiw eht mhtyhr fo yliad ,efil seil a dlrow fo sseldne seitilibissop.\n",
            "ehT tnarbiv yrtsepat fo ,serutluc hcae daerht nevow htiw seirots fo hpmuirt dna ,ecneiliser setaerc a ciasom taht senifed eht yrev ecnesse fo nabru ecnetsixe.\n",
            "sA eht nus sesir revo eht ,noziroh gnitsac sti nedlog wolg nopu eht ,epacsytic elpoep morf lla sklaw fo efil krabme no rieht yliad syenruoj.\n",
            "ehT steerts emoceb a egats rof eht tellab fo ,ytisrevid erehw eht suoinomrah dnelb fo ,segaugnal ,snoitidart dna smaerd sekat retnec egats.\n",
            "ssenisuB sevitucexe edirts ,yllufesoprup stneduts htiw skcapkcab etagivan eht ezam fo ,seitilibissop dna teerts srodnev tes pu ,pohs ydaer ot erahs rieht yraniluc sthgiled.\n",
            "tsdimA eht eltsuh dna ,eltsub neddih smeg tiawa yrevocsid.\n",
            "tniauQ sefac dekcut yawa ni worran syella reffo a etipser morf eht ,soahc erehw eht amora fo ylhserf dewerb eeffoc selgnim htiw eht rethgual fo sdneirf gnirahs seirots.\n",
            "skraP denroda htiw gnimossolb srewolf nokceb esoht gnikees ,ytiliuqnart gnidivorp a yrautcnas tsdima eht nabru elgnuj.\n",
            "ehT s'ytic taebtraeh setanoser hguorht sti skramdnal — cinoci serutcurts taht dnats sa stnematset ot namuh ytiunegni.\n",
            "sreparcsykS hcaer rof eht ,snevaeh gnillet selat fo larutcetihcra ,ecnaillirb elihw cirotsih stnemunom repsihw sterces fo enogyb sare.\n",
            "smuesuM dna seirellag esacwohs eht tnarbiv yrtsepat fo ,tra gnivreserp eht evitcelloc yromem fo a yteicos taht sevlove htiw hcae gnissap tnemom.\n",
            ",teY htaeneb eht reenev fo ,ssergorp segnellahc tsisrep.\n",
            "ehT ytic selpparg htiw eht ymotohcid fo htlaew dna ,ytrevop eht elggurts rof ,ytivisulcni dna eht etaciled ecnalab neewteb gnivreserp noitidart dna gnicarbme noitavonni.\n",
            "ehT seohce fo eseht segnellahc etarebrever hguorht eht ,steerts gnigru sti stnatibahni ot tcelfer no eht derahs ytilibisnopser fo gnipahs eht s'ytic erutuf.\n",
            "nI siht ,siloportem smaerd ekat thgilf ekil sreparcsyks gnicreip eht yks.\n",
            "ehT ruenerpertne snoisivne a gnivirht ,ssenisub eht tsitra senigami a ,eceipretsam dna eht tsitneics smaerd fo gnikcolnu eht seiretsym fo eht esrevinu.\n",
            "sA snoitaripsa ,egrevnoc gnitaerc a ynohpmys fo ,noitibma eht ytic semoceb a elbicurc fo ytivitaerc erehw noitavonni dna noitaripsni edilloc.\n",
            "nI eht yrtsepat fo nabru ,efil hcae laudividni si a ,daerht gnivaew rieht euqinu yrots otni eht cirbaf fo eht ytic.\n",
            ",rehtegoT yeht mrof a evitarran taht sdnecsnart ,emit na gnivlove-reve cipe taht serutpac eht tirips fo a ytinummoc detinu yb eht tiusrup fo ssergorp dna eht noitarbelec fo ytisrevid.\n",
            "ehT ,ytic a gnivil tnematset ot namuh ecneiliser dna ,noitaripsa seunitnoc ot ,evlove gnisimorp a erutuf erehw sti enilyks stcelfer eht smaerd fo snoitareneg tey ot emoc.\n",
            ":eltiT gnirolpxE eht srednoW fo erutaN nI eht traeh fo s'erutan ,ecarbme erehw eht nus sessik eht yks dna eht ezeerb srepsihw hguorht eht ,sevael seil a dlrow fo tnemtnahcne gnitiaw ot eb derevocsid.\n",
            "morF eht gnirewot seert taht yaws ni cimhtyhr ecnad ot eht tnarbiv srewolf taht tniap eht epacsdnal htiw seuh fo yreve ,edahs erutan si na tsitra esohw eceipretsam sdlofnu ni yreve nosaes.\n",
            "sA nwad ,skaerb eht ynohpmys fo gnosdrib semoclew a wen ,yad dna eht tsrif syar fo thgilnus yltneg hcuot eht dessik-wed slatep fo gninekawa srewolf.\n",
            "ehT ecnargarf fo eht htrae sesir htiw eht gninrom ,tsim gnitaerc a lacigam ecnaibma taht snekawa eht sesnes.\n",
            "gniyenruoJ hguorht esned ,stserof eno yam retnuocne evisule ,serutaerc hcae htiw a yrots ot llet.\n",
            "ehT lufecarg reed yllufecarg spael hguorht eht tnadrev ,egailof dna eht lufyalp lerriuqs srepmacs pu eht eert sknurt.\n",
            "s'erutaN ertaeht si dellif htiw sretcarahc gib dna ,llams hcae gniyalp a lativ elor ni eht etaciled ecnalab fo eht metsysoce.\n",
            "gnivoM morf eht hsul yreneerg fo eht stserof ot eht citsejam ,sniatnuom eno nac ssentiw eht war rewop dna ruednarg fo erutan.\n",
            "ehT gnirewot ,skaep denroda htiw deppac-wons ,snworc dnats sa slenitnes fo ,emit gnissentiw eht gnignahc snosaes dna eht snoe taht ssap.\n",
            "gnidnecseD ot eht ,syellav raelc-latsyrc srevir rednaem hguorht eht ,epacsdnal gnitcelfer eht eruza yks evoba.\n",
            "ehT cimhtyhr wolf fo ,retaw gnizinomrah htiw eht seidolem fo ,erutan stniap a eneres erutcip taht setavitpac eht luos.\n",
            "nI eht traeh fo a dellif-rewolf ,wodaem seilfrettub yllufecarg tilf morf moolb ot ,moolb gnippis ratcen sa fi gnitniap eht ria htiw rieht etaciled sgniw.\n",
            "seeB muh ni ,ynomrah ylisub gnitcelloc ,nellop gnitubirtnoc ot eht elcric fo efil.\n",
            "sA eht nus ,stes erutan smrofsnart ecno niaga.\n",
            "ehT yks smrofsnart otni a ,savnac ezalba htiw seuh fo ,egnaro ,knip dna ,elprup gnitsac a mraw wolg nopu eht dlrow woleb.\n",
            "ehT lanrutcon serutaerc ,egreme dna eht ,noom a tnelis ,revresbo sekat retnec egats.\n",
            "nI siht ynohpmys fo ,erutan yreve retpahc sllet a elat fo ,ytuaeb ,ecneiliser dna ssendetcennocretni.\n",
            "ehT srednow fo erutan etivni su ot eb suoiruc ,srerolpxe ot hsirehc eht etaciled ecnalab taht sniatsus ,efil dna ot levram ta eht etacirtni sliated fo ruo larutan dlrow.\n",
            "nI ,noisulcnoc erutan si a ecruos fo sseldne ,noitaripsni gnidnimer su fo eht gnikathtaerb ytuaeb taht sdnuorrus su.\n",
            "gnirolpxE eht srednow fo erutan si ton ylerem na ;erutnevda ti si a yenruoj fo ,yrevocsid-fles ,ytilimuh dna edutitarg rof eht yranidroartxe dlrow ew llac emoh.\n",
            ".\n",
            "\n"
          ]
        }
      ]
    },
    {
      "cell_type": "code",
      "source": [
        "# Đảo ngược toàn bộ data (đảo ngược từng chữ cái)\n",
        "output_file_path_4 = '/content/drive/MyDrive/BIG DATA/Result4.txt'\n",
        "reversed_content = content[::-1]\n",
        "print(reversed_content)\n",
        "with open(output_file_path_4, 'w', encoding='utf-8') as output_file:\n",
        "        output_file.write(reversed_text)"
      ],
      "metadata": {
        "colab": {
          "base_uri": "https://localhost:8080/"
        },
        "id": "1JrjHnaofnJa",
        "outputId": "cb478cd1-1b72-4e31-cf06-b41c1e6d44f6"
      },
      "execution_count": null,
      "outputs": [
        {
          "output_type": "stream",
          "name": "stdout",
          "text": [
            ".emoh llac ew dlrow yranidroartxe eht rof edutitarg dna ,ytilimuh ,yrevocsid-fles fo yenruoj a si ti ;erutnevda na ylerem ton si erutan fo srednow eht gnirolpxE .su sdnuorrus taht ytuaeb gnikathtaerb eht fo su gnidnimer ,noitaripsni sseldne fo ecruos a si erutan ,noisulcnoc nI\n",
            "\n",
            ".dlrow larutan ruo fo sliated etacirtni eht ta levram ot dna ,efil sniatsus taht ecnalab etaciled eht hsirehc ot ,srerolpxe suoiruc eb ot su etivni erutan fo srednow ehT .ssendetcennocretni dna ,ecneiliser ,ytuaeb fo elat a sllet retpahc yreve ,erutan fo ynohpmys siht nI\n",
            "\n",
            ".egats retnec sekat ,revresbo tnelis a ,noom eht dna ,egreme serutaerc lanrutcon ehT .woleb dlrow eht nopu wolg mraw a gnitsac ,elprup dna ,knip ,egnaro fo seuh htiw ezalba ,savnac a otni smrofsnart yks ehT .niaga ecno smrofsnart erutan ,stes nus eht sA\n",
            "\n",
            ".efil fo elcric eht ot gnitubirtnoc ,nellop gnitcelloc ylisub ,ynomrah ni muh seeB .sgniw etaciled rieht htiw ria eht gnitniap fi sa ratcen gnippis ,moolb ot moolb morf tilf yllufecarg seilfrettub ,wodaem dellif-rewolf a fo traeh eht nI\n",
            "\n",
            ".luos eht setavitpac taht erutcip eneres a stniap ,erutan fo seidolem eht htiw gnizinomrah ,retaw fo wolf cimhtyhr ehT .evoba yks eruza eht gnitcelfer ,epacsdnal eht hguorht rednaem srevir raelc-latsyrc ,syellav eht ot gnidnecseD\n",
            "\n",
            ".ssap taht snoe eht dna snosaes gnignahc eht gnissentiw ,emit fo slenitnes sa dnats ,snworc deppac-wons htiw denroda ,skaep gnirewot ehT .erutan fo ruednarg dna rewop war eht ssentiw nac eno ,sniatnuom citsejam eht ot stserof eht fo yreneerg hsul eht morf gnivoM\n",
            "\n",
            ".metsysoce eht fo ecnalab etaciled eht ni elor lativ a gniyalp hcae ,llams dna gib sretcarahc htiw dellif si ertaeht s'erutaN .sknurt eert eht pu srepmacs lerriuqs lufyalp eht dna ,egailof tnadrev eht hguorht spael yllufecarg reed lufecarg ehT .llet ot yrots a htiw hcae ,serutaerc evisule retnuocne yam eno ,stserof esned hguorht gniyenruoJ\n",
            "\n",
            ".sesnes eht snekawa taht ecnaibma lacigam a gnitaerc ,tsim gninrom eht htiw sesir htrae eht fo ecnargarf ehT .srewolf gninekawa fo slatep dessik-wed eht hcuot yltneg thgilnus fo syar tsrif eht dna ,yad wen a semoclew gnosdrib fo ynohpmys eht ,skaerb nwad sA\n",
            "\n",
            ".nosaes yreve ni sdlofnu eceipretsam esohw tsitra na si erutan ,edahs yreve fo seuh htiw epacsdnal eht tniap taht srewolf tnarbiv eht ot ecnad cimhtyhr ni yaws taht seert gnirewot eht morF .derevocsid eb ot gnitiaw tnemtnahcne fo dlrow a seil ,sevael eht hguorht srepsihw ezeerb eht dna yks eht sessik nus eht erehw ,ecarbme s'erutan fo traeh eht nI\n",
            "\n",
            "erutaN fo srednoW eht gnirolpxE :eltiT\n",
            "\n",
            ".emoc ot tey snoitareneg fo smaerd eht stcelfer enilyks sti erehw erutuf a gnisimorp ,evlove ot seunitnoc ,noitaripsa dna ecneiliser namuh ot tnematset gnivil a ,ytic ehT .ytisrevid fo noitarbelec eht dna ssergorp fo tiusrup eht yb detinu ytinummoc a fo tirips eht serutpac taht cipe gnivlove-reve na ,emit sdnecsnart taht evitarran a mrof yeht ,rehtegoT .ytic eht fo cirbaf eht otni yrots euqinu rieht gnivaew ,daerht a si laudividni hcae ,efil nabru fo yrtsepat eht nI\n",
            "\n",
            ".edilloc noitaripsni dna noitavonni erehw ytivitaerc fo elbicurc a semoceb ytic eht ,noitibma fo ynohpmys a gnitaerc ,egrevnoc snoitaripsa sA .esrevinu eht fo seiretsym eht gnikcolnu fo smaerd tsitneics eht dna ,eceipretsam a senigami tsitra eht ,ssenisub gnivirht a snoisivne ruenerpertne ehT .yks eht gnicreip sreparcsyks ekil thgilf ekat smaerd ,siloportem siht nI\n",
            "\n",
            ".erutuf s'ytic eht gnipahs fo ytilibisnopser derahs eht no tcelfer ot stnatibahni sti gnigru ,steerts eht hguorht etarebrever segnellahc eseht fo seohce ehT .noitavonni gnicarbme dna noitidart gnivreserp neewteb ecnalab etaciled eht dna ,ytivisulcni rof elggurts eht ,ytrevop dna htlaew fo ymotohcid eht htiw selpparg ytic ehT .tsisrep segnellahc ,ssergorp fo reenev eht htaeneb ,teY\n",
            "\n",
            ".tnemom gnissap hcae htiw sevlove taht yteicos a fo yromem evitcelloc eht gnivreserp ,tra fo yrtsepat tnarbiv eht esacwohs seirellag dna smuesuM .sare enogyb fo sterces repsihw stnemunom cirotsih elihw ,ecnaillirb larutcetihcra fo selat gnillet ,snevaeh eht rof hcaer sreparcsykS .ytiunegni namuh ot stnematset sa dnats taht serutcurts cinoci — skramdnal sti hguorht setanoser taebtraeh s'ytic ehT\n",
            "\n",
            ".elgnuj nabru eht tsdima yrautcnas a gnidivorp ,ytiliuqnart gnikees esoht nokceb srewolf gnimossolb htiw denroda skraP .seirots gnirahs sdneirf fo rethgual eht htiw selgnim eeffoc dewerb ylhserf fo amora eht erehw ,soahc eht morf etipser a reffo syella worran ni yawa dekcut sefac tniauQ .yrevocsid tiawa smeg neddih ,eltsub dna eltsuh eht tsdimA\n",
            "\n",
            ".sthgiled yraniluc rieht erahs ot ydaer ,pohs pu tes srodnev teerts dna ,seitilibissop fo ezam eht etagivan skcapkcab htiw stneduts ,yllufesoprup edirts sevitucexe ssenisuB .egats retnec sekat smaerd dna ,snoitidart ,segaugnal fo dnelb suoinomrah eht erehw ,ytisrevid fo tellab eht rof egats a emoceb steerts ehT .syenruoj yliad rieht no krabme efil fo sklaw lla morf elpoep ,epacsytic eht nopu wolg nedlog sti gnitsac ,noziroh eht revo sesir nus eht sA\n",
            "\n",
            ".ecnetsixe nabru fo ecnesse yrev eht senifed taht ciasom a setaerc ,ecneiliser dna hpmuirt fo seirots htiw nevow daerht hcae ,serutluc fo yrtsepat tnarbiv ehT .seitilibissop sseldne fo dlrow a seil ,efil yliad fo mhtyhr eht htiw muh steerts eht dna sduolc eht hcuot sreparcsyks eht erehw ,ytic gniltsub a fo traeh eht nI\n"
          ]
        }
      ]
    }
  ]
}