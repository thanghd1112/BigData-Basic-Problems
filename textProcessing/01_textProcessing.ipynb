{
  "nbformat": 4,
  "nbformat_minor": 0,
  "metadata": {
    "colab": {
      "provenance": []
    },
    "kernelspec": {
      "name": "python3",
      "display_name": "Python 3"
    },
    "language_info": {
      "name": "python"
    }
  },
  "cells": [
    {
      "cell_type": "code",
      "execution_count": 1,
      "metadata": {
        "colab": {
          "base_uri": "https://localhost:8080/"
        },
        "id": "UU3h4hll9AcM",
        "outputId": "9fa240fa-eecf-43c4-9463-8e9dad681d5d"
      },
      "outputs": [
        {
          "output_type": "stream",
          "name": "stdout",
          "text": [
            "Mounted at /content/drive\n"
          ]
        }
      ],
      "source": [
        "from google.colab import drive\n",
        "drive.mount('/content/drive')"
      ]
    },
    {
      "cell_type": "markdown",
      "source": [
        "#Đọc file\n"
      ],
      "metadata": {
        "id": "70bkZtxhH27q"
      }
    },
    {
      "cell_type": "code",
      "source": [
        "file_path = '/content/drive/MyDrive/Colab Notebooks/Big_Data/data.txt'"
      ],
      "metadata": {
        "id": "DWfUVglKHwKC"
      },
      "execution_count": 2,
      "outputs": []
    },
    {
      "cell_type": "markdown",
      "source": [
        "#Đếm từ"
      ],
      "metadata": {
        "id": "qYxJ7bxaIHVi"
      }
    },
    {
      "cell_type": "code",
      "source": [
        "target_word = input(\"Nhập từ cần đếm: \")\n",
        "\n",
        "# Khởi tạo biến đếm\n",
        "count = 0\n",
        "\n",
        "# Mở file trong chế độ đọc văn bản\n",
        "with open(file_path, 'r') as file:\n",
        "    # Đọc từng dòng trong file\n",
        "    for line in file:\n",
        "        # Chuyển dòng về chữ thường và đếm số lần xuất hiện của từ\n",
        "        count += line.lower().count(target_word.lower())\n",
        "\n",
        "print(f\"Số lần xuất hiện của từ '{target_word}': {count}\")"
      ],
      "metadata": {
        "colab": {
          "base_uri": "https://localhost:8080/"
        },
        "id": "da4hQzrWDkRD",
        "outputId": "e1592812-4e63-4f56-dba5-9af25297165a"
      },
      "execution_count": 3,
      "outputs": [
        {
          "output_type": "stream",
          "name": "stdout",
          "text": [
            "Nhập từ cần đếm: went to\n",
            "Số lần xuất hiện của từ 'went to': 46\n"
          ]
        }
      ]
    },
    {
      "cell_type": "markdown",
      "source": [
        "#Đảo ngữ trong câu"
      ],
      "metadata": {
        "id": "m9jEuhKOIP_b"
      }
    },
    {
      "cell_type": "code",
      "source": [
        "# Dùng join kết nối chuỗi\n",
        "\n",
        "input_string = input(\"Nhập chuỗi từ: \")\n",
        "\n",
        "# Tách các từ trong chuỗi\n",
        "words = input_string.split()\n",
        "# Khởi tạo danh sách để lưu các từ đảo ngược\n",
        "reversed_words = []\n",
        "\n",
        "# Sử dụng vòng lặp for để đảo ngược thứ tự của các từ\n",
        "for word in reversed(words):\n",
        "    reversed_words.append(word)\n",
        "\n",
        "# Tạo chuỗi đảo ngược\n",
        "output_string = ' '.join(reversed_words)\n",
        "\n",
        "print(\"Kết quả đảo ngược:\", output_string)\n"
      ],
      "metadata": {
        "id": "FWuNHmDKGd7X",
        "colab": {
          "base_uri": "https://localhost:8080/"
        },
        "outputId": "2030300b-6bae-4f79-e10f-1aba201e41c1"
      },
      "execution_count": 4,
      "outputs": [
        {
          "output_type": "stream",
          "name": "stdout",
          "text": [
            "Nhập chuỗi từ: Went to go home\n",
            "Kết quả đảo ngược: home go to Went\n"
          ]
        }
      ]
    },
    {
      "cell_type": "code",
      "source": [
        "# Dùng +\n",
        "input_string = input(\"Nhập chuỗi từ: \")\n",
        "\n",
        "words = input_string.split()\n",
        "\n",
        "# Khởi tạo chuỗi đảo ngược\n",
        "output_string = ''\n",
        "# Sử dụng vòng lặp for để đảo ngược thứ tự của các từ và nối vào chuỗi đảo ngược\n",
        "for word in reversed(words):\n",
        "    output_string += word + ' '\n",
        "\n",
        "# Loại bỏ dấu cách cuối cùng\n",
        "output_string = output_string.rstrip()\n",
        "\n",
        "print(\"Kết quả đảo ngược:\", output_string)\n"
      ],
      "metadata": {
        "id": "qMzA91A_Hb5E",
        "colab": {
          "base_uri": "https://localhost:8080/"
        },
        "outputId": "6f58db3b-302d-4051-bdf1-798faa96ccf2"
      },
      "execution_count": 5,
      "outputs": [
        {
          "output_type": "stream",
          "name": "stdout",
          "text": [
            "Nhập chuỗi từ: I want to go to School\n",
            "Kết quả đảo ngược: School to go to want I\n"
          ]
        }
      ]
    },
    {
      "cell_type": "markdown",
      "source": [
        "# Đảo ngược câu chẵn và giữ nguyên câu lẻ"
      ],
      "metadata": {
        "id": "Z_ewYEN7Bpkc"
      }
    },
    {
      "cell_type": "code",
      "source": [
        "output_file_path = '/content/drive/MyDrive/Colab Notebooks/Big_Data/outdata.txt'\n",
        "\n",
        "# Mở file để đọc nội dung\n",
        "with open(file_path, 'r', encoding='utf-8') as file:\n",
        "    content = file.read()\n",
        "\n",
        "# Khởi tạo biến để lưu đoạn văn bản đảo ngược\n",
        "reversed_text = ''\n",
        "sentences = content.split('.')\n",
        "\n",
        "# Duyệt qua mỗi câu trong danh sách các câu\n",
        "for i, sentence in enumerate(sentences):\n",
        "    # Tách các từ trong câu và đảo ngược từng từ\n",
        "    reversed_sentence = ' '.join(reversed(sentence.split())) if (i + 1) % 2 == 0 else sentence\n",
        "\n",
        "    # Ghép câu đảo ngược vào biến tổng hợp và thêm dấu chấm cuối cùng\n",
        "    reversed_text += reversed_sentence + '.' + '\\n'\n",
        "\n",
        "# Lưu kết quả vào file mới\n",
        "with open(output_file_path, 'w', encoding='utf-8') as output_file:\n",
        "    output_file.write(reversed_text)\n",
        "\n",
        "print(\"Đã lưu kết quả vào file:\", output_file_path)\n"
      ],
      "metadata": {
        "colab": {
          "base_uri": "https://localhost:8080/"
        },
        "id": "HWVi9lmnGsBo",
        "outputId": "a6907488-3ea7-497a-da09-0a24ccd1c556"
      },
      "execution_count": 16,
      "outputs": [
        {
          "output_type": "stream",
          "name": "stdout",
          "text": [
            "Đã lưu kết quả vào file: /content/drive/MyDrive/Colab Notebooks/Big_Data/outdata.txt\n"
          ]
        }
      ]
    },
    {
      "cell_type": "markdown",
      "source": [
        "# Đảo ngược câu đầu tiên và những câu có số thứ tự chia hết cho 5 và nhỏ hơn 10\n",
        "\n"
      ],
      "metadata": {
        "id": "yT6C3mCGCHoO"
      }
    },
    {
      "cell_type": "code",
      "source": [
        "output_file_path_dk = '/content/drive/MyDrive/Colab Notebooks/Big_Data/outdata2.txt'\n",
        "\n",
        "reversed_text_dk = ''\n",
        "\n",
        "for i, sentence in enumerate(sentences):\n",
        "    # Kiểm tra điều kiện\n",
        "    if (i + 1) % 5 == 0 and i < 10 or i == 0:\n",
        "        # Đảo ngược câu nếu thỏa điều kiện\n",
        "        reversed_sentence = ' '.join(reversed(sentence.split())) + '.' + '\\n'\n",
        "    else:\n",
        "        # Giữ nguyên các câu khác\n",
        "        reversed_sentence = sentence + '.' + '\\n'\n",
        "    # Ghép câu đảo ngược hoặc giữ nguyên vào biến tổng hợp\n",
        "    reversed_text_dk += reversed_sentence\n",
        "# Lưu kết quả vào file mới\n",
        "with open(output_file_path_dk, 'w', encoding='utf-8') as output_file_dk:\n",
        "    output_file_dk.write(reversed_text_dk)\n",
        "\n",
        "print(\"Đã lưu kết quả vào file:\", output_file_path_dk)\n"
      ],
      "metadata": {
        "colab": {
          "base_uri": "https://localhost:8080/"
        },
        "id": "SN0Os2oRCGut",
        "outputId": "32193653-ac79-4b6c-ab31-69d23c5f8b5a"
      },
      "execution_count": 18,
      "outputs": [
        {
          "output_type": "stream",
          "name": "stdout",
          "text": [
            "Đã lưu kết quả vào file: /content/drive/MyDrive/Colab Notebooks/Big_Data/outdata2.txt\n"
          ]
        }
      ]
    },
    {
      "cell_type": "markdown",
      "source": [
        "#đổi từng ký tự trong câu nhập từ bàn phím\n"
      ],
      "metadata": {
        "id": "QUL5FpWpY9Sw"
      }
    },
    {
      "cell_type": "code",
      "source": [
        "\n",
        "input_string = input(\"Nhập chuỗi từ: \")\n",
        "\n",
        "# Tách các từ trong chuỗi\n",
        "words = input_string.split()\n",
        "# Khởi tạo danh sách để lưu các từ đảo ngược\n",
        "reversed_words = []\n",
        "\n",
        "# Sử dụng vòng lặp for để đảo ngược thứ tự của các ký tự trong từng từ\n",
        "for word in words:\n",
        "    reversed_word = ''.join(reversed(word))\n",
        "    reversed_words.append(reversed_word)\n",
        "\n",
        "# Tạo chuỗi đảo ngược\n",
        "output_string = ' '.join(reversed_words)\n",
        "\n",
        "print(\"Kết quả đảo ngược từng ký tự trong từ:\", output_string)\n"
      ],
      "metadata": {
        "colab": {
          "base_uri": "https://localhost:8080/"
        },
        "id": "A-OgpE4iD20M",
        "outputId": "6261cdbb-0fa6-4294-e8a5-48548d98e503"
      },
      "execution_count": 10,
      "outputs": [
        {
          "output_type": "stream",
          "name": "stdout",
          "text": [
            "Nhập chuỗi từ: I want to go to School\n",
            "Kết quả đảo ngược từng ký tự trong từ: I tnaw ot og ot loohcS\n"
          ]
        }
      ]
    },
    {
      "cell_type": "markdown",
      "source": [
        "#Đổi từng ký tự trong câu của file data"
      ],
      "metadata": {
        "id": "kbROnModKdS6"
      }
    },
    {
      "cell_type": "code",
      "source": [
        "output_file_path_char = '/content/drive/MyDrive/Colab Notebooks/Big_Data/outdata3.txt'\n",
        "\n",
        "# Khởi tạo biến để lưu đoạn văn bản đảo ngược từng ký tự\n",
        "reversed_character = ''\n",
        "\n",
        "for sentence in sentences:\n",
        "    # Tách các từ trong câu và đảo ngược từng ký tự\n",
        "    reversed_sentence = ' '.join([''.join(reversed(word)) for word in sentence.split()]) + '.' + '\\n'\n",
        "\n",
        "    reversed_character += reversed_sentence\n",
        "\n",
        "with open(output_file_path_char, 'w', encoding='utf-8') as output_file_char:\n",
        "    output_file_char.write(reversed_character)\n",
        "\n",
        "print(\"Đã lưu kết quả vào file:\", output_file_path_char)\n"
      ],
      "metadata": {
        "colab": {
          "base_uri": "https://localhost:8080/"
        },
        "id": "AdHoYGXJEqYs",
        "outputId": "958b4f15-3d46-431c-af74-3eca3305d236"
      },
      "execution_count": 19,
      "outputs": [
        {
          "output_type": "stream",
          "name": "stdout",
          "text": [
            "Đã lưu kết quả vào file: /content/drive/MyDrive/Colab Notebooks/Big_Data/outdata3.txt\n"
          ]
        }
      ]
    },
    {
      "cell_type": "markdown",
      "source": [
        "# Đảo ngược toàn bộ nội dung của file"
      ],
      "metadata": {
        "id": "e_PXNmOfKNHH"
      }
    },
    {
      "cell_type": "code",
      "source": [
        "output_file_path_full = '/content/drive/MyDrive/Colab Notebooks/Big_Data/outdata4.txt'\n",
        "\n",
        "reversed_content = content[::-1]\n",
        "\n",
        "# Lưu kết quả vào file mới\n",
        "with open(output_file_path_full, 'w', encoding='utf-8') as output_file_full:\n",
        "    output_file_full.write(reversed_content)\n",
        "\n",
        "print(\"Đã lưu kết quả vào file:\", output_file_path_full)\n"
      ],
      "metadata": {
        "colab": {
          "base_uri": "https://localhost:8080/"
        },
        "id": "6PCBPLEHFsPQ",
        "outputId": "df3a4598-66fa-4831-ab30-93fa492bac52"
      },
      "execution_count": 20,
      "outputs": [
        {
          "output_type": "stream",
          "name": "stdout",
          "text": [
            "Đã lưu kết quả vào file: /content/drive/MyDrive/Colab Notebooks/Big_Data/outdata4.txt\n"
          ]
        }
      ]
    }
  ]
}