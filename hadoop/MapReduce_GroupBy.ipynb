{
  "nbformat": 4,
  "nbformat_minor": 0,
  "metadata": {
    "colab": {
      "provenance": []
    },
    "kernelspec": {
      "name": "python3",
      "display_name": "Python 3"
    },
    "language_info": {
      "name": "python"
    }
  },
  "cells": [
    {
      "cell_type": "code",
      "source": [
        "from google.colab import drive\n",
        "drive.mount('/content/drive')"
      ],
      "metadata": {
        "colab": {
          "base_uri": "https://localhost:8080/"
        },
        "id": "mJCUC51JBuOh",
        "outputId": "59df2aeb-65a3-45e1-d628-6bebcb3c000c"
      },
      "execution_count": 1,
      "outputs": [
        {
          "output_type": "stream",
          "name": "stdout",
          "text": [
            "Drive already mounted at /content/drive; to attempt to forcibly remount, call drive.mount(\"/content/drive\", force_remount=True).\n"
          ]
        }
      ]
    },
    {
      "cell_type": "code",
      "source": [
        "file_path = '/content/drive/MyDrive/Colab Notebooks/Big_Data/data.txt'"
      ],
      "metadata": {
        "id": "SnG7Nci5H3v_"
      },
      "execution_count": 2,
      "outputs": []
    },
    {
      "source": [
        "with open(file_path, 'r', errors='ignore') as file:\n",
        "    content = file.read()\n",
        "print(content)"
      ],
      "cell_type": "code",
      "metadata": {
        "id": "6A55P70AFU2z",
        "colab": {
          "base_uri": "https://localhost:8080/"
        },
        "outputId": "519d50a5-40c2-40b4-d1ac-28b7d87372c4"
      },
      "execution_count": 3,
      "outputs": [
        {
          "output_type": "stream",
          "name": "stdout",
          "text": [
            "Went to Went to.\n",
            "Went to go home.\n",
            "Sample Document.\n",
            "\n",
            "TXT document files are plain text files that contain only unformatted text. They do not contain any formatting or layout information, and are often used for storing simple text documents or data sets. They can be opened and edited with any text editor, such as Notepad on a Windows computer or TextEdit on a Mac. They are commonly used for storing things like notes, lists, scripts, or code snippets, and are often used in combination with other file formats, such as HTML or XML, to store data that will be displayed on the web or in other applications.\n",
            "\n",
            "I want to go to School \n",
            "Hello, Im Minh. I am studying at Hong Bang Secondary School. Located in a bustling city, it has been serving the community for many years. At Hong Bang Secondary School, we not only provide academic training but also promote the personal and social development of students. Furthermore, I also have the opportunity to participate in many interesting extracurricular activities, clubs and sports teams. Thanks to these group activities, I was able to meet many new friends. We always help each other when there are problems, we also often go out together to fun places. The teachers at my school are very enthusiastic, always ready to help students when they encounter difficulties in learning as well as in life. I think Hong Bang Secondary School is a good solution for us to study. I will definitely always remember the beautiful memories of school when I leave it.\n",
            "\n",
            "I have a very close friend; Her name is Huong. We have been playing together since we were innocent children. She is also my close neighbor. We are very close to each other, to the point that we can understand each other without the other person having to say anything. At school, she studied very well. In addition, she also actively participates in group activities. Thats why teachers and friends all love Huong. Huong has a kind heart; She always helps people around her if she can. She is a kind girl. Huong has many good qualities that I should learn from her. We often invite each other to study extra at the library on weekends. I have such good study results partly because Huong always urges me, so I feel very grateful to Huong. We will always be good friends.\n",
            "\n",
            "When I was young, my sister showed me the Harry Potter movie, and I loved it so much that I cant remember how many times I watched it. Harry Potter is a very famous and beloved movie based on the fantasy novel by J.K. Rowling. The series tells about the adventures of a boy named Harry Potter and his friends Ron Weasley and Hermione Granger, who are studying at Hogwarts School of Witchcraft and Wizardry. They learn about the magical world, face various challenges, and eventually confront the dark wizard Lord Voldemort. The details of the movie are very dramatic and attractive. Every time I watch it, Im so focused and cant stop. My parents knew that I really liked the Harry Potter movie, so they bought me a model set of the characters in the movie so I could display them in my bedroom. This movie is very good, and I highly recommend everyone try watching it once.\n",
            "\n",
            "\n"
          ]
        }
      ]
    },
    {
      "cell_type": "code",
      "source": [
        "from itertools import groupby\n",
        "def mapper(input_text):\n",
        "    words = input_text.split()\n",
        "    word_count_pairs = [(word, 1) for word in words]\n",
        "    return word_count_pairs\n",
        "\n",
        "def reducer(mapped_result):\n",
        "    mapped_result.sort(key=lambda x: x[0])\n",
        "    grouped_result = {key: [item[1] for item in group] for key, group in groupby(mapped_result, key=lambda x: x[0])}\n",
        "    reduced_result = {key: sum(values) for key, values in grouped_result.items()}\n",
        "    return reduced_result\n",
        "\n",
        "# Áp dụng Map\n",
        "mapped_result = mapper(content)\n",
        "print(\"\\nMapped Result:\")\n",
        "print(mapped_result)\n",
        "\n",
        "# Áp dụng Reduce\n",
        "reduced_result = reducer(mapped_result)\n",
        "print(\"\\nReduced Result:\")\n",
        "print(reduced_result)\n"
      ],
      "metadata": {
        "colab": {
          "base_uri": "https://localhost:8080/"
        },
        "id": "T7MkkAFcIfKX",
        "outputId": "945c0a51-1197-43ac-9786-1acdb5f332fc"
      },
      "execution_count": 4,
      "outputs": [
        {
          "output_type": "stream",
          "name": "stdout",
          "text": [
            "\n",
            "Mapped Result:\n",
            "[('Went', 1), ('to', 1), ('Went', 1), ('to.', 1), ('Went', 1), ('to', 1), ('go', 1), ('home.', 1), ('Sample', 1), ('Document.', 1), ('TXT', 1), ('document', 1), ('files', 1), ('are', 1), ('plain', 1), ('text', 1), ('files', 1), ('that', 1), ('contain', 1), ('only', 1), ('unformatted', 1), ('text.', 1), ('They', 1), ('do', 1), ('not', 1), ('contain', 1), ('any', 1), ('formatting', 1), ('or', 1), ('layout', 1), ('information,', 1), ('and', 1), ('are', 1), ('often', 1), ('used', 1), ('for', 1), ('storing', 1), ('simple', 1), ('text', 1), ('documents', 1), ('or', 1), ('data', 1), ('sets.', 1), ('They', 1), ('can', 1), ('be', 1), ('opened', 1), ('and', 1), ('edited', 1), ('with', 1), ('any', 1), ('text', 1), ('editor,', 1), ('such', 1), ('as', 1), ('Notepad', 1), ('on', 1), ('a', 1), ('Windows', 1), ('computer', 1), ('or', 1), ('TextEdit', 1), ('on', 1), ('a', 1), ('Mac.', 1), ('They', 1), ('are', 1), ('commonly', 1), ('used', 1), ('for', 1), ('storing', 1), ('things', 1), ('like', 1), ('notes,', 1), ('lists,', 1), ('scripts,', 1), ('or', 1), ('code', 1), ('snippets,', 1), ('and', 1), ('are', 1), ('often', 1), ('used', 1), ('in', 1), ('combination', 1), ('with', 1), ('other', 1), ('file', 1), ('formats,', 1), ('such', 1), ('as', 1), ('HTML', 1), ('or', 1), ('XML,', 1), ('to', 1), ('store', 1), ('data', 1), ('that', 1), ('will', 1), ('be', 1), ('displayed', 1), ('on', 1), ('the', 1), ('web', 1), ('or', 1), ('in', 1), ('other', 1), ('applications.', 1), ('I', 1), ('want', 1), ('to', 1), ('go', 1), ('to', 1), ('School', 1), ('Hello,', 1), ('Im', 1), ('Minh.', 1), ('I', 1), ('am', 1), ('studying', 1), ('at', 1), ('Hong', 1), ('Bang', 1), ('Secondary', 1), ('School.', 1), ('Located', 1), ('in', 1), ('a', 1), ('bustling', 1), ('city,', 1), ('it', 1), ('has', 1), ('been', 1), ('serving', 1), ('the', 1), ('community', 1), ('for', 1), ('many', 1), ('years.', 1), ('At', 1), ('Hong', 1), ('Bang', 1), ('Secondary', 1), ('School,', 1), ('we', 1), ('not', 1), ('only', 1), ('provide', 1), ('academic', 1), ('training', 1), ('but', 1), ('also', 1), ('promote', 1), ('the', 1), ('personal', 1), ('and', 1), ('social', 1), ('development', 1), ('of', 1), ('students.', 1), ('Furthermore,', 1), ('I', 1), ('also', 1), ('have', 1), ('the', 1), ('opportunity', 1), ('to', 1), ('participate', 1), ('in', 1), ('many', 1), ('interesting', 1), ('extracurricular', 1), ('activities,', 1), ('clubs', 1), ('and', 1), ('sports', 1), ('teams.', 1), ('Thanks', 1), ('to', 1), ('these', 1), ('group', 1), ('activities,', 1), ('I', 1), ('was', 1), ('able', 1), ('to', 1), ('meet', 1), ('many', 1), ('new', 1), ('friends.', 1), ('We', 1), ('always', 1), ('help', 1), ('each', 1), ('other', 1), ('when', 1), ('there', 1), ('are', 1), ('problems,', 1), ('we', 1), ('also', 1), ('often', 1), ('go', 1), ('out', 1), ('together', 1), ('to', 1), ('fun', 1), ('places.', 1), ('The', 1), ('teachers', 1), ('at', 1), ('my', 1), ('school', 1), ('are', 1), ('very', 1), ('enthusiastic,', 1), ('always', 1), ('ready', 1), ('to', 1), ('help', 1), ('students', 1), ('when', 1), ('they', 1), ('encounter', 1), ('difficulties', 1), ('in', 1), ('learning', 1), ('as', 1), ('well', 1), ('as', 1), ('in', 1), ('life.', 1), ('I', 1), ('think', 1), ('Hong', 1), ('Bang', 1), ('Secondary', 1), ('School', 1), ('is', 1), ('a', 1), ('good', 1), ('solution', 1), ('for', 1), ('us', 1), ('to', 1), ('study.', 1), ('I', 1), ('will', 1), ('definitely', 1), ('always', 1), ('remember', 1), ('the', 1), ('beautiful', 1), ('memories', 1), ('of', 1), ('school', 1), ('when', 1), ('I', 1), ('leave', 1), ('it.', 1), ('I', 1), ('have', 1), ('a', 1), ('very', 1), ('close', 1), ('friend;', 1), ('Her', 1), ('name', 1), ('is', 1), ('Huong.', 1), ('We', 1), ('have', 1), ('been', 1), ('playing', 1), ('together', 1), ('since', 1), ('we', 1), ('were', 1), ('innocent', 1), ('children.', 1), ('She', 1), ('is', 1), ('also', 1), ('my', 1), ('close', 1), ('neighbor.', 1), ('We', 1), ('are', 1), ('very', 1), ('close', 1), ('to', 1), ('each', 1), ('other,', 1), ('to', 1), ('the', 1), ('point', 1), ('that', 1), ('we', 1), ('can', 1), ('understand', 1), ('each', 1), ('other', 1), ('without', 1), ('the', 1), ('other', 1), ('person', 1), ('having', 1), ('to', 1), ('say', 1), ('anything.', 1), ('At', 1), ('school,', 1), ('she', 1), ('studied', 1), ('very', 1), ('well.', 1), ('In', 1), ('addition,', 1), ('she', 1), ('also', 1), ('actively', 1), ('participates', 1), ('in', 1), ('group', 1), ('activities.', 1), ('Thats', 1), ('why', 1), ('teachers', 1), ('and', 1), ('friends', 1), ('all', 1), ('love', 1), ('Huong.', 1), ('Huong', 1), ('has', 1), ('a', 1), ('kind', 1), ('heart;', 1), ('She', 1), ('always', 1), ('helps', 1), ('people', 1), ('around', 1), ('her', 1), ('if', 1), ('she', 1), ('can.', 1), ('She', 1), ('is', 1), ('a', 1), ('kind', 1), ('girl.', 1), ('Huong', 1), ('has', 1), ('many', 1), ('good', 1), ('qualities', 1), ('that', 1), ('I', 1), ('should', 1), ('learn', 1), ('from', 1), ('her.', 1), ('We', 1), ('often', 1), ('invite', 1), ('each', 1), ('other', 1), ('to', 1), ('study', 1), ('extra', 1), ('at', 1), ('the', 1), ('library', 1), ('on', 1), ('weekends.', 1), ('I', 1), ('have', 1), ('such', 1), ('good', 1), ('study', 1), ('results', 1), ('partly', 1), ('because', 1), ('Huong', 1), ('always', 1), ('urges', 1), ('me,', 1), ('so', 1), ('I', 1), ('feel', 1), ('very', 1), ('grateful', 1), ('to', 1), ('Huong.', 1), ('We', 1), ('will', 1), ('always', 1), ('be', 1), ('good', 1), ('friends.', 1), ('When', 1), ('I', 1), ('was', 1), ('young,', 1), ('my', 1), ('sister', 1), ('showed', 1), ('me', 1), ('the', 1), ('Harry', 1), ('Potter', 1), ('movie,', 1), ('and', 1), ('I', 1), ('loved', 1), ('it', 1), ('so', 1), ('much', 1), ('that', 1), ('I', 1), ('cant', 1), ('remember', 1), ('how', 1), ('many', 1), ('times', 1), ('I', 1), ('watched', 1), ('it.', 1), ('Harry', 1), ('Potter', 1), ('is', 1), ('a', 1), ('very', 1), ('famous', 1), ('and', 1), ('beloved', 1), ('movie', 1), ('based', 1), ('on', 1), ('the', 1), ('fantasy', 1), ('novel', 1), ('by', 1), ('J.K.', 1), ('Rowling.', 1), ('The', 1), ('series', 1), ('tells', 1), ('about', 1), ('the', 1), ('adventures', 1), ('of', 1), ('a', 1), ('boy', 1), ('named', 1), ('Harry', 1), ('Potter', 1), ('and', 1), ('his', 1), ('friends', 1), ('Ron', 1), ('Weasley', 1), ('and', 1), ('Hermione', 1), ('Granger,', 1), ('who', 1), ('are', 1), ('studying', 1), ('at', 1), ('Hogwarts', 1), ('School', 1), ('of', 1), ('Witchcraft', 1), ('and', 1), ('Wizardry.', 1), ('They', 1), ('learn', 1), ('about', 1), ('the', 1), ('magical', 1), ('world,', 1), ('face', 1), ('various', 1), ('challenges,', 1), ('and', 1), ('eventually', 1), ('confront', 1), ('the', 1), ('dark', 1), ('wizard', 1), ('Lord', 1), ('Voldemort.', 1), ('The', 1), ('details', 1), ('of', 1), ('the', 1), ('movie', 1), ('are', 1), ('very', 1), ('dramatic', 1), ('and', 1), ('attractive.', 1), ('Every', 1), ('time', 1), ('I', 1), ('watch', 1), ('it,', 1), ('Im', 1), ('so', 1), ('focused', 1), ('and', 1), ('cant', 1), ('stop.', 1), ('My', 1), ('parents', 1), ('knew', 1), ('that', 1), ('I', 1), ('really', 1), ('liked', 1), ('the', 1), ('Harry', 1), ('Potter', 1), ('movie,', 1), ('so', 1), ('they', 1), ('bought', 1), ('me', 1), ('a', 1), ('model', 1), ('set', 1), ('of', 1), ('the', 1), ('characters', 1), ('in', 1), ('the', 1), ('movie', 1), ('so', 1), ('I', 1), ('could', 1), ('display', 1), ('them', 1), ('in', 1), ('my', 1), ('bedroom.', 1), ('This', 1), ('movie', 1), ('is', 1), ('very', 1), ('good,', 1), ('and', 1), ('I', 1), ('highly', 1), ('recommend', 1), ('everyone', 1), ('try', 1), ('watching', 1), ('it', 1), ('once.', 1)]\n",
            "\n",
            "Reduced Result:\n",
            "{'At': 2, 'Bang': 3, 'Document.': 1, 'Every': 1, 'Furthermore,': 1, 'Granger,': 1, 'HTML': 1, 'Harry': 4, 'Hello,': 1, 'Her': 1, 'Hermione': 1, 'Hogwarts': 1, 'Hong': 3, 'Huong': 3, 'Huong.': 3, 'I': 19, 'Im': 2, 'In': 1, 'J.K.': 1, 'Located': 1, 'Lord': 1, 'Mac.': 1, 'Minh.': 1, 'My': 1, 'Notepad': 1, 'Potter': 4, 'Ron': 1, 'Rowling.': 1, 'Sample': 1, 'School': 3, 'School,': 1, 'School.': 1, 'Secondary': 3, 'She': 3, 'TXT': 1, 'TextEdit': 1, 'Thanks': 1, 'Thats': 1, 'The': 3, 'They': 4, 'This': 1, 'Voldemort.': 1, 'We': 5, 'Weasley': 1, 'Went': 3, 'When': 1, 'Windows': 1, 'Witchcraft': 1, 'Wizardry.': 1, 'XML,': 1, 'a': 10, 'able': 1, 'about': 2, 'academic': 1, 'actively': 1, 'activities,': 2, 'activities.': 1, 'addition,': 1, 'adventures': 1, 'all': 1, 'also': 5, 'always': 6, 'am': 1, 'and': 15, 'any': 2, 'anything.': 1, 'applications.': 1, 'are': 9, 'around': 1, 'as': 4, 'at': 4, 'attractive.': 1, 'based': 1, 'be': 3, 'beautiful': 1, 'because': 1, 'bedroom.': 1, 'been': 2, 'beloved': 1, 'bought': 1, 'boy': 1, 'bustling': 1, 'but': 1, 'by': 1, 'can': 2, 'can.': 1, 'cant': 2, 'challenges,': 1, 'characters': 1, 'children.': 1, 'city,': 1, 'close': 3, 'clubs': 1, 'code': 1, 'combination': 1, 'commonly': 1, 'community': 1, 'computer': 1, 'confront': 1, 'contain': 2, 'could': 1, 'dark': 1, 'data': 2, 'definitely': 1, 'details': 1, 'development': 1, 'difficulties': 1, 'display': 1, 'displayed': 1, 'do': 1, 'document': 1, 'documents': 1, 'dramatic': 1, 'each': 4, 'edited': 1, 'editor,': 1, 'encounter': 1, 'enthusiastic,': 1, 'eventually': 1, 'everyone': 1, 'extra': 1, 'extracurricular': 1, 'face': 1, 'famous': 1, 'fantasy': 1, 'feel': 1, 'file': 1, 'files': 2, 'focused': 1, 'for': 4, 'formats,': 1, 'formatting': 1, 'friend;': 1, 'friends': 2, 'friends.': 2, 'from': 1, 'fun': 1, 'girl.': 1, 'go': 3, 'good': 4, 'good,': 1, 'grateful': 1, 'group': 2, 'has': 3, 'have': 4, 'having': 1, 'heart;': 1, 'help': 2, 'helps': 1, 'her': 1, 'her.': 1, 'highly': 1, 'his': 1, 'home.': 1, 'how': 1, 'if': 1, 'in': 9, 'information,': 1, 'innocent': 1, 'interesting': 1, 'invite': 1, 'is': 6, 'it': 3, 'it,': 1, 'it.': 2, 'kind': 2, 'knew': 1, 'layout': 1, 'learn': 2, 'learning': 1, 'leave': 1, 'library': 1, 'life.': 1, 'like': 1, 'liked': 1, 'lists,': 1, 'love': 1, 'loved': 1, 'magical': 1, 'many': 5, 'me': 2, 'me,': 1, 'meet': 1, 'memories': 1, 'model': 1, 'movie': 4, 'movie,': 2, 'much': 1, 'my': 4, 'name': 1, 'named': 1, 'neighbor.': 1, 'new': 1, 'not': 2, 'notes,': 1, 'novel': 1, 'of': 6, 'often': 4, 'on': 5, 'once.': 1, 'only': 2, 'opened': 1, 'opportunity': 1, 'or': 6, 'other': 6, 'other,': 1, 'out': 1, 'parents': 1, 'participate': 1, 'participates': 1, 'partly': 1, 'people': 1, 'person': 1, 'personal': 1, 'places.': 1, 'plain': 1, 'playing': 1, 'point': 1, 'problems,': 1, 'promote': 1, 'provide': 1, 'qualities': 1, 'ready': 1, 'really': 1, 'recommend': 1, 'remember': 2, 'results': 1, 'say': 1, 'school': 2, 'school,': 1, 'scripts,': 1, 'series': 1, 'serving': 1, 'set': 1, 'sets.': 1, 'she': 3, 'should': 1, 'showed': 1, 'simple': 1, 'since': 1, 'sister': 1, 'snippets,': 1, 'so': 5, 'social': 1, 'solution': 1, 'sports': 1, 'stop.': 1, 'store': 1, 'storing': 2, 'students': 1, 'students.': 1, 'studied': 1, 'study': 2, 'study.': 1, 'studying': 2, 'such': 3, 'teachers': 2, 'teams.': 1, 'tells': 1, 'text': 3, 'text.': 1, 'that': 6, 'the': 17, 'them': 1, 'there': 1, 'these': 1, 'they': 2, 'things': 1, 'think': 1, 'time': 1, 'times': 1, 'to': 16, 'to.': 1, 'together': 2, 'training': 1, 'try': 1, 'understand': 1, 'unformatted': 1, 'urges': 1, 'us': 1, 'used': 3, 'various': 1, 'very': 8, 'want': 1, 'was': 2, 'watch': 1, 'watched': 1, 'watching': 1, 'we': 4, 'web': 1, 'weekends.': 1, 'well': 1, 'well.': 1, 'were': 1, 'when': 3, 'who': 1, 'why': 1, 'will': 3, 'with': 2, 'without': 1, 'wizard': 1, 'world,': 1, 'years.': 1, 'young,': 1}\n"
          ]
        }
      ]
    },
    {
      "cell_type": "code",
      "source": [
        "from itertools import groupby\n",
        "\n",
        "def clean_and_tokenize(sentence):\n",
        "    # Loại bỏ các ký tự không mong muốn và chuyển đổi thành chữ thường\n",
        "    cleaned_sentence = ''.join(c.lower() if c.isalnum() or c.isspace() else ' ' for c in sentence)\n",
        "    # Tách các từ trong câu\n",
        "    words = cleaned_sentence.split()\n",
        "    return words\n",
        "\n",
        "def mapper(input_text):\n",
        "    words = clean_and_tokenize(input_text)\n",
        "    word_count_pairs = [(word, 1) for word in words]\n",
        "    return word_count_pairs\n",
        "\n",
        "def reducer(mapped_result):\n",
        "    mapped_result.sort(key=lambda x: x[0])\n",
        "    grouped_result = {key: [item[1] for item in group] for key, group in groupby(mapped_result, key=lambda x: x[0])}\n",
        "    reduced_result = {key: sum(values) for key, values in grouped_result.items()}\n",
        "    return reduced_result\n",
        "\n",
        "with open(file_path, 'r', errors='ignore') as file:\n",
        "    input_text = file.read()\n",
        "print(input_text)\n",
        "\n",
        "# Áp dụng Map\n",
        "mapped_result = mapper(input_text)\n",
        "print(\"\\nMapped Result:\")\n",
        "print(mapped_result)\n",
        "\n",
        "# Áp dụng Reduce\n",
        "reduced_result = reducer(mapped_result)\n",
        "print(\"\\nReduced Result:\")\n",
        "print(reduced_result)\n"
      ],
      "metadata": {
        "colab": {
          "base_uri": "https://localhost:8080/"
        },
        "id": "L1hzWRX-Xt0x",
        "outputId": "5794050e-b3c7-46ec-b29e-aa1bdc5de811"
      },
      "execution_count": 5,
      "outputs": [
        {
          "output_type": "stream",
          "name": "stdout",
          "text": [
            "Went to Went to.\n",
            "Went to go home.\n",
            "Sample Document.\n",
            "\n",
            "TXT document files are plain text files that contain only unformatted text. They do not contain any formatting or layout information, and are often used for storing simple text documents or data sets. They can be opened and edited with any text editor, such as Notepad on a Windows computer or TextEdit on a Mac. They are commonly used for storing things like notes, lists, scripts, or code snippets, and are often used in combination with other file formats, such as HTML or XML, to store data that will be displayed on the web or in other applications.\n",
            "\n",
            "I want to go to School \n",
            "Hello, Im Minh. I am studying at Hong Bang Secondary School. Located in a bustling city, it has been serving the community for many years. At Hong Bang Secondary School, we not only provide academic training but also promote the personal and social development of students. Furthermore, I also have the opportunity to participate in many interesting extracurricular activities, clubs and sports teams. Thanks to these group activities, I was able to meet many new friends. We always help each other when there are problems, we also often go out together to fun places. The teachers at my school are very enthusiastic, always ready to help students when they encounter difficulties in learning as well as in life. I think Hong Bang Secondary School is a good solution for us to study. I will definitely always remember the beautiful memories of school when I leave it.\n",
            "\n",
            "I have a very close friend; Her name is Huong. We have been playing together since we were innocent children. She is also my close neighbor. We are very close to each other, to the point that we can understand each other without the other person having to say anything. At school, she studied very well. In addition, she also actively participates in group activities. Thats why teachers and friends all love Huong. Huong has a kind heart; She always helps people around her if she can. She is a kind girl. Huong has many good qualities that I should learn from her. We often invite each other to study extra at the library on weekends. I have such good study results partly because Huong always urges me, so I feel very grateful to Huong. We will always be good friends.\n",
            "\n",
            "When I was young, my sister showed me the Harry Potter movie, and I loved it so much that I cant remember how many times I watched it. Harry Potter is a very famous and beloved movie based on the fantasy novel by J.K. Rowling. The series tells about the adventures of a boy named Harry Potter and his friends Ron Weasley and Hermione Granger, who are studying at Hogwarts School of Witchcraft and Wizardry. They learn about the magical world, face various challenges, and eventually confront the dark wizard Lord Voldemort. The details of the movie are very dramatic and attractive. Every time I watch it, Im so focused and cant stop. My parents knew that I really liked the Harry Potter movie, so they bought me a model set of the characters in the movie so I could display them in my bedroom. This movie is very good, and I highly recommend everyone try watching it once.\n",
            "\n",
            "\n",
            "\n",
            "Mapped Result:\n",
            "[('went', 1), ('to', 1), ('went', 1), ('to', 1), ('went', 1), ('to', 1), ('go', 1), ('home', 1), ('sample', 1), ('document', 1), ('txt', 1), ('document', 1), ('files', 1), ('are', 1), ('plain', 1), ('text', 1), ('files', 1), ('that', 1), ('contain', 1), ('only', 1), ('unformatted', 1), ('text', 1), ('they', 1), ('do', 1), ('not', 1), ('contain', 1), ('any', 1), ('formatting', 1), ('or', 1), ('layout', 1), ('information', 1), ('and', 1), ('are', 1), ('often', 1), ('used', 1), ('for', 1), ('storing', 1), ('simple', 1), ('text', 1), ('documents', 1), ('or', 1), ('data', 1), ('sets', 1), ('they', 1), ('can', 1), ('be', 1), ('opened', 1), ('and', 1), ('edited', 1), ('with', 1), ('any', 1), ('text', 1), ('editor', 1), ('such', 1), ('as', 1), ('notepad', 1), ('on', 1), ('a', 1), ('windows', 1), ('computer', 1), ('or', 1), ('textedit', 1), ('on', 1), ('a', 1), ('mac', 1), ('they', 1), ('are', 1), ('commonly', 1), ('used', 1), ('for', 1), ('storing', 1), ('things', 1), ('like', 1), ('notes', 1), ('lists', 1), ('scripts', 1), ('or', 1), ('code', 1), ('snippets', 1), ('and', 1), ('are', 1), ('often', 1), ('used', 1), ('in', 1), ('combination', 1), ('with', 1), ('other', 1), ('file', 1), ('formats', 1), ('such', 1), ('as', 1), ('html', 1), ('or', 1), ('xml', 1), ('to', 1), ('store', 1), ('data', 1), ('that', 1), ('will', 1), ('be', 1), ('displayed', 1), ('on', 1), ('the', 1), ('web', 1), ('or', 1), ('in', 1), ('other', 1), ('applications', 1), ('i', 1), ('want', 1), ('to', 1), ('go', 1), ('to', 1), ('school', 1), ('hello', 1), ('im', 1), ('minh', 1), ('i', 1), ('am', 1), ('studying', 1), ('at', 1), ('hong', 1), ('bang', 1), ('secondary', 1), ('school', 1), ('located', 1), ('in', 1), ('a', 1), ('bustling', 1), ('city', 1), ('it', 1), ('has', 1), ('been', 1), ('serving', 1), ('the', 1), ('community', 1), ('for', 1), ('many', 1), ('years', 1), ('at', 1), ('hong', 1), ('bang', 1), ('secondary', 1), ('school', 1), ('we', 1), ('not', 1), ('only', 1), ('provide', 1), ('academic', 1), ('training', 1), ('but', 1), ('also', 1), ('promote', 1), ('the', 1), ('personal', 1), ('and', 1), ('social', 1), ('development', 1), ('of', 1), ('students', 1), ('furthermore', 1), ('i', 1), ('also', 1), ('have', 1), ('the', 1), ('opportunity', 1), ('to', 1), ('participate', 1), ('in', 1), ('many', 1), ('interesting', 1), ('extracurricular', 1), ('activities', 1), ('clubs', 1), ('and', 1), ('sports', 1), ('teams', 1), ('thanks', 1), ('to', 1), ('these', 1), ('group', 1), ('activities', 1), ('i', 1), ('was', 1), ('able', 1), ('to', 1), ('meet', 1), ('many', 1), ('new', 1), ('friends', 1), ('we', 1), ('always', 1), ('help', 1), ('each', 1), ('other', 1), ('when', 1), ('there', 1), ('are', 1), ('problems', 1), ('we', 1), ('also', 1), ('often', 1), ('go', 1), ('out', 1), ('together', 1), ('to', 1), ('fun', 1), ('places', 1), ('the', 1), ('teachers', 1), ('at', 1), ('my', 1), ('school', 1), ('are', 1), ('very', 1), ('enthusiastic', 1), ('always', 1), ('ready', 1), ('to', 1), ('help', 1), ('students', 1), ('when', 1), ('they', 1), ('encounter', 1), ('difficulties', 1), ('in', 1), ('learning', 1), ('as', 1), ('well', 1), ('as', 1), ('in', 1), ('life', 1), ('i', 1), ('think', 1), ('hong', 1), ('bang', 1), ('secondary', 1), ('school', 1), ('is', 1), ('a', 1), ('good', 1), ('solution', 1), ('for', 1), ('us', 1), ('to', 1), ('study', 1), ('i', 1), ('will', 1), ('definitely', 1), ('always', 1), ('remember', 1), ('the', 1), ('beautiful', 1), ('memories', 1), ('of', 1), ('school', 1), ('when', 1), ('i', 1), ('leave', 1), ('it', 1), ('i', 1), ('have', 1), ('a', 1), ('very', 1), ('close', 1), ('friend', 1), ('her', 1), ('name', 1), ('is', 1), ('huong', 1), ('we', 1), ('have', 1), ('been', 1), ('playing', 1), ('together', 1), ('since', 1), ('we', 1), ('were', 1), ('innocent', 1), ('children', 1), ('she', 1), ('is', 1), ('also', 1), ('my', 1), ('close', 1), ('neighbor', 1), ('we', 1), ('are', 1), ('very', 1), ('close', 1), ('to', 1), ('each', 1), ('other', 1), ('to', 1), ('the', 1), ('point', 1), ('that', 1), ('we', 1), ('can', 1), ('understand', 1), ('each', 1), ('other', 1), ('without', 1), ('the', 1), ('other', 1), ('person', 1), ('having', 1), ('to', 1), ('say', 1), ('anything', 1), ('at', 1), ('school', 1), ('she', 1), ('studied', 1), ('very', 1), ('well', 1), ('in', 1), ('addition', 1), ('she', 1), ('also', 1), ('actively', 1), ('participates', 1), ('in', 1), ('group', 1), ('activities', 1), ('thats', 1), ('why', 1), ('teachers', 1), ('and', 1), ('friends', 1), ('all', 1), ('love', 1), ('huong', 1), ('huong', 1), ('has', 1), ('a', 1), ('kind', 1), ('heart', 1), ('she', 1), ('always', 1), ('helps', 1), ('people', 1), ('around', 1), ('her', 1), ('if', 1), ('she', 1), ('can', 1), ('she', 1), ('is', 1), ('a', 1), ('kind', 1), ('girl', 1), ('huong', 1), ('has', 1), ('many', 1), ('good', 1), ('qualities', 1), ('that', 1), ('i', 1), ('should', 1), ('learn', 1), ('from', 1), ('her', 1), ('we', 1), ('often', 1), ('invite', 1), ('each', 1), ('other', 1), ('to', 1), ('study', 1), ('extra', 1), ('at', 1), ('the', 1), ('library', 1), ('on', 1), ('weekends', 1), ('i', 1), ('have', 1), ('such', 1), ('good', 1), ('study', 1), ('results', 1), ('partly', 1), ('because', 1), ('huong', 1), ('always', 1), ('urges', 1), ('me', 1), ('so', 1), ('i', 1), ('feel', 1), ('very', 1), ('grateful', 1), ('to', 1), ('huong', 1), ('we', 1), ('will', 1), ('always', 1), ('be', 1), ('good', 1), ('friends', 1), ('when', 1), ('i', 1), ('was', 1), ('young', 1), ('my', 1), ('sister', 1), ('showed', 1), ('me', 1), ('the', 1), ('harry', 1), ('potter', 1), ('movie', 1), ('and', 1), ('i', 1), ('loved', 1), ('it', 1), ('so', 1), ('much', 1), ('that', 1), ('i', 1), ('cant', 1), ('remember', 1), ('how', 1), ('many', 1), ('times', 1), ('i', 1), ('watched', 1), ('it', 1), ('harry', 1), ('potter', 1), ('is', 1), ('a', 1), ('very', 1), ('famous', 1), ('and', 1), ('beloved', 1), ('movie', 1), ('based', 1), ('on', 1), ('the', 1), ('fantasy', 1), ('novel', 1), ('by', 1), ('j', 1), ('k', 1), ('rowling', 1), ('the', 1), ('series', 1), ('tells', 1), ('about', 1), ('the', 1), ('adventures', 1), ('of', 1), ('a', 1), ('boy', 1), ('named', 1), ('harry', 1), ('potter', 1), ('and', 1), ('his', 1), ('friends', 1), ('ron', 1), ('weasley', 1), ('and', 1), ('hermione', 1), ('granger', 1), ('who', 1), ('are', 1), ('studying', 1), ('at', 1), ('hogwarts', 1), ('school', 1), ('of', 1), ('witchcraft', 1), ('and', 1), ('wizardry', 1), ('they', 1), ('learn', 1), ('about', 1), ('the', 1), ('magical', 1), ('world', 1), ('face', 1), ('various', 1), ('challenges', 1), ('and', 1), ('eventually', 1), ('confront', 1), ('the', 1), ('dark', 1), ('wizard', 1), ('lord', 1), ('voldemort', 1), ('the', 1), ('details', 1), ('of', 1), ('the', 1), ('movie', 1), ('are', 1), ('very', 1), ('dramatic', 1), ('and', 1), ('attractive', 1), ('every', 1), ('time', 1), ('i', 1), ('watch', 1), ('it', 1), ('im', 1), ('so', 1), ('focused', 1), ('and', 1), ('cant', 1), ('stop', 1), ('my', 1), ('parents', 1), ('knew', 1), ('that', 1), ('i', 1), ('really', 1), ('liked', 1), ('the', 1), ('harry', 1), ('potter', 1), ('movie', 1), ('so', 1), ('they', 1), ('bought', 1), ('me', 1), ('a', 1), ('model', 1), ('set', 1), ('of', 1), ('the', 1), ('characters', 1), ('in', 1), ('the', 1), ('movie', 1), ('so', 1), ('i', 1), ('could', 1), ('display', 1), ('them', 1), ('in', 1), ('my', 1), ('bedroom', 1), ('this', 1), ('movie', 1), ('is', 1), ('very', 1), ('good', 1), ('and', 1), ('i', 1), ('highly', 1), ('recommend', 1), ('everyone', 1), ('try', 1), ('watching', 1), ('it', 1), ('once', 1)]\n",
            "\n",
            "Reduced Result:\n",
            "{'a': 10, 'able': 1, 'about': 2, 'academic': 1, 'actively': 1, 'activities': 3, 'addition': 1, 'adventures': 1, 'all': 1, 'also': 5, 'always': 6, 'am': 1, 'and': 15, 'any': 2, 'anything': 1, 'applications': 1, 'are': 9, 'around': 1, 'as': 4, 'at': 6, 'attractive': 1, 'bang': 3, 'based': 1, 'be': 3, 'beautiful': 1, 'because': 1, 'bedroom': 1, 'been': 2, 'beloved': 1, 'bought': 1, 'boy': 1, 'bustling': 1, 'but': 1, 'by': 1, 'can': 3, 'cant': 2, 'challenges': 1, 'characters': 1, 'children': 1, 'city': 1, 'close': 3, 'clubs': 1, 'code': 1, 'combination': 1, 'commonly': 1, 'community': 1, 'computer': 1, 'confront': 1, 'contain': 2, 'could': 1, 'dark': 1, 'data': 2, 'definitely': 1, 'details': 1, 'development': 1, 'difficulties': 1, 'display': 1, 'displayed': 1, 'do': 1, 'document': 2, 'documents': 1, 'dramatic': 1, 'each': 4, 'edited': 1, 'editor': 1, 'encounter': 1, 'enthusiastic': 1, 'eventually': 1, 'every': 1, 'everyone': 1, 'extra': 1, 'extracurricular': 1, 'face': 1, 'famous': 1, 'fantasy': 1, 'feel': 1, 'file': 1, 'files': 2, 'focused': 1, 'for': 4, 'formats': 1, 'formatting': 1, 'friend': 1, 'friends': 4, 'from': 1, 'fun': 1, 'furthermore': 1, 'girl': 1, 'go': 3, 'good': 5, 'granger': 1, 'grateful': 1, 'group': 2, 'harry': 4, 'has': 3, 'have': 4, 'having': 1, 'heart': 1, 'hello': 1, 'help': 2, 'helps': 1, 'her': 3, 'hermione': 1, 'highly': 1, 'his': 1, 'hogwarts': 1, 'home': 1, 'hong': 3, 'how': 1, 'html': 1, 'huong': 6, 'i': 19, 'if': 1, 'im': 2, 'in': 10, 'information': 1, 'innocent': 1, 'interesting': 1, 'invite': 1, 'is': 6, 'it': 6, 'j': 1, 'k': 1, 'kind': 2, 'knew': 1, 'layout': 1, 'learn': 2, 'learning': 1, 'leave': 1, 'library': 1, 'life': 1, 'like': 1, 'liked': 1, 'lists': 1, 'located': 1, 'lord': 1, 'love': 1, 'loved': 1, 'mac': 1, 'magical': 1, 'many': 5, 'me': 3, 'meet': 1, 'memories': 1, 'minh': 1, 'model': 1, 'movie': 6, 'much': 1, 'my': 5, 'name': 1, 'named': 1, 'neighbor': 1, 'new': 1, 'not': 2, 'notepad': 1, 'notes': 1, 'novel': 1, 'of': 6, 'often': 4, 'on': 5, 'once': 1, 'only': 2, 'opened': 1, 'opportunity': 1, 'or': 6, 'other': 7, 'out': 1, 'parents': 1, 'participate': 1, 'participates': 1, 'partly': 1, 'people': 1, 'person': 1, 'personal': 1, 'places': 1, 'plain': 1, 'playing': 1, 'point': 1, 'potter': 4, 'problems': 1, 'promote': 1, 'provide': 1, 'qualities': 1, 'ready': 1, 'really': 1, 'recommend': 1, 'remember': 2, 'results': 1, 'ron': 1, 'rowling': 1, 'sample': 1, 'say': 1, 'school': 8, 'scripts': 1, 'secondary': 3, 'series': 1, 'serving': 1, 'set': 1, 'sets': 1, 'she': 6, 'should': 1, 'showed': 1, 'simple': 1, 'since': 1, 'sister': 1, 'snippets': 1, 'so': 5, 'social': 1, 'solution': 1, 'sports': 1, 'stop': 1, 'store': 1, 'storing': 2, 'students': 2, 'studied': 1, 'study': 3, 'studying': 2, 'such': 3, 'teachers': 2, 'teams': 1, 'tells': 1, 'text': 4, 'textedit': 1, 'thanks': 1, 'that': 6, 'thats': 1, 'the': 20, 'them': 1, 'there': 1, 'these': 1, 'they': 6, 'things': 1, 'think': 1, 'this': 1, 'time': 1, 'times': 1, 'to': 17, 'together': 2, 'training': 1, 'try': 1, 'txt': 1, 'understand': 1, 'unformatted': 1, 'urges': 1, 'us': 1, 'used': 3, 'various': 1, 'very': 8, 'voldemort': 1, 'want': 1, 'was': 2, 'watch': 1, 'watched': 1, 'watching': 1, 'we': 9, 'weasley': 1, 'web': 1, 'weekends': 1, 'well': 2, 'went': 3, 'were': 1, 'when': 4, 'who': 1, 'why': 1, 'will': 3, 'windows': 1, 'witchcraft': 1, 'with': 2, 'without': 1, 'wizard': 1, 'wizardry': 1, 'world': 1, 'xml': 1, 'years': 1, 'young': 1}\n"
          ]
        }
      ]
    },
    {
      "cell_type": "code",
      "source": [
        "\n",
        "# Lưu kết quả vào file\n",
        "output_file_path = '/content/drive/MyDrive/Colab Notebooks/Big_Data/output_result.txt'\n",
        "with open(output_file_path, 'w') as output_file:\n",
        "    for key, value in reduced_result.items():\n",
        "        output_file.write(f\"<{key}: {value}>\\n\")\n",
        "\n",
        "print(\"Kết quả đã được lưu vào file:\", output_file_path)\n"
      ],
      "metadata": {
        "colab": {
          "base_uri": "https://localhost:8080/"
        },
        "id": "pxqeYQx3bQab",
        "outputId": "35341364-67b8-49c0-e9c6-315057b09e3f"
      },
      "execution_count": 6,
      "outputs": [
        {
          "output_type": "stream",
          "name": "stdout",
          "text": [
            "Went to Went to.\n",
            "Went to go home.\n",
            "Sample Document.\n",
            "\n",
            "TXT document files are plain text files that contain only unformatted text. They do not contain any formatting or layout information, and are often used for storing simple text documents or data sets. They can be opened and edited with any text editor, such as Notepad on a Windows computer or TextEdit on a Mac. They are commonly used for storing things like notes, lists, scripts, or code snippets, and are often used in combination with other file formats, such as HTML or XML, to store data that will be displayed on the web or in other applications.\n",
            "\n",
            "I want to go to School \n",
            "Hello, Im Minh. I am studying at Hong Bang Secondary School. Located in a bustling city, it has been serving the community for many years. At Hong Bang Secondary School, we not only provide academic training but also promote the personal and social development of students. Furthermore, I also have the opportunity to participate in many interesting extracurricular activities, clubs and sports teams. Thanks to these group activities, I was able to meet many new friends. We always help each other when there are problems, we also often go out together to fun places. The teachers at my school are very enthusiastic, always ready to help students when they encounter difficulties in learning as well as in life. I think Hong Bang Secondary School is a good solution for us to study. I will definitely always remember the beautiful memories of school when I leave it.\n",
            "\n",
            "I have a very close friend; Her name is Huong. We have been playing together since we were innocent children. She is also my close neighbor. We are very close to each other, to the point that we can understand each other without the other person having to say anything. At school, she studied very well. In addition, she also actively participates in group activities. Thats why teachers and friends all love Huong. Huong has a kind heart; She always helps people around her if she can. She is a kind girl. Huong has many good qualities that I should learn from her. We often invite each other to study extra at the library on weekends. I have such good study results partly because Huong always urges me, so I feel very grateful to Huong. We will always be good friends.\n",
            "\n",
            "When I was young, my sister showed me the Harry Potter movie, and I loved it so much that I cant remember how many times I watched it. Harry Potter is a very famous and beloved movie based on the fantasy novel by J.K. Rowling. The series tells about the adventures of a boy named Harry Potter and his friends Ron Weasley and Hermione Granger, who are studying at Hogwarts School of Witchcraft and Wizardry. They learn about the magical world, face various challenges, and eventually confront the dark wizard Lord Voldemort. The details of the movie are very dramatic and attractive. Every time I watch it, Im so focused and cant stop. My parents knew that I really liked the Harry Potter movie, so they bought me a model set of the characters in the movie so I could display them in my bedroom. This movie is very good, and I highly recommend everyone try watching it once.\n",
            "\n",
            "\n",
            "Kết quả đã được lưu vào file: /content/drive/MyDrive/Colab Notebooks/Big_Data/output_result.txt\n"
          ]
        }
      ]
    },
    {
      "cell_type": "markdown",
      "source": [
        "#Cách 2 GroupBy"
      ],
      "metadata": {
        "id": "_7TuMO4iTDTg"
      }
    },
    {
      "cell_type": "code",
      "source": [
        "from functools import reduce\n",
        "from itertools import groupby\n",
        "\n",
        "def clean_and_tokenize(sentence):\n",
        "    # Loại bỏ các ký tự không mong muốn và chuyển đổi thành chữ thường\n",
        "    cleaned_sentence = ''.join(c.lower() if c.isalnum() or c.isspace() else ' ' for c in sentence)\n",
        "    # Tách các từ trong câu\n",
        "    words = cleaned_sentence.split()\n",
        "    return words\n",
        "\n",
        "def groupByKey(data):\n",
        "    result = dict()\n",
        "    for key, value in data:\n",
        "        if key in result:\n",
        "            result[key].append(value)\n",
        "        else:\n",
        "            result[key] = [value]\n",
        "    return result\n",
        "\n",
        "def reduceByKey(f, data):\n",
        "    return map(lambda key: (key, reduce(f, data[key])), data)\n",
        "\n",
        "def mapper(input_text):\n",
        "    words = clean_and_tokenize(input_text)\n",
        "    word_count_pairs = [(word, 1) for word in words]\n",
        "    return word_count_pairs\n",
        "\n",
        "def reducer(mapped_result):\n",
        "    mapped_result.sort(key=lambda x: x[0])\n",
        "    grouped_result = {key: [item[1] for item in group] for key, group in groupby(mapped_result, key=lambda x: x[0])}\n",
        "    reduced_result = {key: sum(values) for key, values in grouped_result.items()}\n",
        "    return reduced_result\n",
        "\n",
        "# Áp dụng Map\n",
        "mapped_result = mapper(input_text)\n",
        "print(\"\\nMapped Result:\")\n",
        "print(mapped_result)\n",
        "\n",
        "# Áp dụng Reduce\n",
        "reduced_result = reducer(mapped_result)\n",
        "print(\"\\nReduced Result:\")\n",
        "print(reduced_result)\n",
        "\n",
        "grouped_result = groupByKey(mapped_result)\n",
        "print(\"\\nGrouped Result:\")\n",
        "print(grouped_result)\n",
        "\n"
      ],
      "metadata": {
        "colab": {
          "base_uri": "https://localhost:8080/"
        },
        "id": "iQhXplSmSK0i",
        "outputId": "597fb480-d230-4540-fc19-405db3b52eeb"
      },
      "execution_count": 28,
      "outputs": [
        {
          "output_type": "stream",
          "name": "stdout",
          "text": [
            "\n",
            "Mapped Result:\n",
            "[('went', 1), ('to', 1), ('went', 1), ('to', 1), ('went', 1), ('to', 1), ('go', 1), ('home', 1), ('sample', 1), ('document', 1), ('txt', 1), ('document', 1), ('files', 1), ('are', 1), ('plain', 1), ('text', 1), ('files', 1), ('that', 1), ('contain', 1), ('only', 1), ('unformatted', 1), ('text', 1), ('they', 1), ('do', 1), ('not', 1), ('contain', 1), ('any', 1), ('formatting', 1), ('or', 1), ('layout', 1), ('information', 1), ('and', 1), ('are', 1), ('often', 1), ('used', 1), ('for', 1), ('storing', 1), ('simple', 1), ('text', 1), ('documents', 1), ('or', 1), ('data', 1), ('sets', 1), ('they', 1), ('can', 1), ('be', 1), ('opened', 1), ('and', 1), ('edited', 1), ('with', 1), ('any', 1), ('text', 1), ('editor', 1), ('such', 1), ('as', 1), ('notepad', 1), ('on', 1), ('a', 1), ('windows', 1), ('computer', 1), ('or', 1), ('textedit', 1), ('on', 1), ('a', 1), ('mac', 1), ('they', 1), ('are', 1), ('commonly', 1), ('used', 1), ('for', 1), ('storing', 1), ('things', 1), ('like', 1), ('notes', 1), ('lists', 1), ('scripts', 1), ('or', 1), ('code', 1), ('snippets', 1), ('and', 1), ('are', 1), ('often', 1), ('used', 1), ('in', 1), ('combination', 1), ('with', 1), ('other', 1), ('file', 1), ('formats', 1), ('such', 1), ('as', 1), ('html', 1), ('or', 1), ('xml', 1), ('to', 1), ('store', 1), ('data', 1), ('that', 1), ('will', 1), ('be', 1), ('displayed', 1), ('on', 1), ('the', 1), ('web', 1), ('or', 1), ('in', 1), ('other', 1), ('applications', 1), ('i', 1), ('want', 1), ('to', 1), ('go', 1), ('to', 1), ('school', 1), ('hello', 1), ('im', 1), ('minh', 1), ('i', 1), ('am', 1), ('studying', 1), ('at', 1), ('hong', 1), ('bang', 1), ('secondary', 1), ('school', 1), ('located', 1), ('in', 1), ('a', 1), ('bustling', 1), ('city', 1), ('it', 1), ('has', 1), ('been', 1), ('serving', 1), ('the', 1), ('community', 1), ('for', 1), ('many', 1), ('years', 1), ('at', 1), ('hong', 1), ('bang', 1), ('secondary', 1), ('school', 1), ('we', 1), ('not', 1), ('only', 1), ('provide', 1), ('academic', 1), ('training', 1), ('but', 1), ('also', 1), ('promote', 1), ('the', 1), ('personal', 1), ('and', 1), ('social', 1), ('development', 1), ('of', 1), ('students', 1), ('furthermore', 1), ('i', 1), ('also', 1), ('have', 1), ('the', 1), ('opportunity', 1), ('to', 1), ('participate', 1), ('in', 1), ('many', 1), ('interesting', 1), ('extracurricular', 1), ('activities', 1), ('clubs', 1), ('and', 1), ('sports', 1), ('teams', 1), ('thanks', 1), ('to', 1), ('these', 1), ('group', 1), ('activities', 1), ('i', 1), ('was', 1), ('able', 1), ('to', 1), ('meet', 1), ('many', 1), ('new', 1), ('friends', 1), ('we', 1), ('always', 1), ('help', 1), ('each', 1), ('other', 1), ('when', 1), ('there', 1), ('are', 1), ('problems', 1), ('we', 1), ('also', 1), ('often', 1), ('go', 1), ('out', 1), ('together', 1), ('to', 1), ('fun', 1), ('places', 1), ('the', 1), ('teachers', 1), ('at', 1), ('my', 1), ('school', 1), ('are', 1), ('very', 1), ('enthusiastic', 1), ('always', 1), ('ready', 1), ('to', 1), ('help', 1), ('students', 1), ('when', 1), ('they', 1), ('encounter', 1), ('difficulties', 1), ('in', 1), ('learning', 1), ('as', 1), ('well', 1), ('as', 1), ('in', 1), ('life', 1), ('i', 1), ('think', 1), ('hong', 1), ('bang', 1), ('secondary', 1), ('school', 1), ('is', 1), ('a', 1), ('good', 1), ('solution', 1), ('for', 1), ('us', 1), ('to', 1), ('study', 1), ('i', 1), ('will', 1), ('definitely', 1), ('always', 1), ('remember', 1), ('the', 1), ('beautiful', 1), ('memories', 1), ('of', 1), ('school', 1), ('when', 1), ('i', 1), ('leave', 1), ('it', 1), ('i', 1), ('have', 1), ('a', 1), ('very', 1), ('close', 1), ('friend', 1), ('her', 1), ('name', 1), ('is', 1), ('huong', 1), ('we', 1), ('have', 1), ('been', 1), ('playing', 1), ('together', 1), ('since', 1), ('we', 1), ('were', 1), ('innocent', 1), ('children', 1), ('she', 1), ('is', 1), ('also', 1), ('my', 1), ('close', 1), ('neighbor', 1), ('we', 1), ('are', 1), ('very', 1), ('close', 1), ('to', 1), ('each', 1), ('other', 1), ('to', 1), ('the', 1), ('point', 1), ('that', 1), ('we', 1), ('can', 1), ('understand', 1), ('each', 1), ('other', 1), ('without', 1), ('the', 1), ('other', 1), ('person', 1), ('having', 1), ('to', 1), ('say', 1), ('anything', 1), ('at', 1), ('school', 1), ('she', 1), ('studied', 1), ('very', 1), ('well', 1), ('in', 1), ('addition', 1), ('she', 1), ('also', 1), ('actively', 1), ('participates', 1), ('in', 1), ('group', 1), ('activities', 1), ('thats', 1), ('why', 1), ('teachers', 1), ('and', 1), ('friends', 1), ('all', 1), ('love', 1), ('huong', 1), ('huong', 1), ('has', 1), ('a', 1), ('kind', 1), ('heart', 1), ('she', 1), ('always', 1), ('helps', 1), ('people', 1), ('around', 1), ('her', 1), ('if', 1), ('she', 1), ('can', 1), ('she', 1), ('is', 1), ('a', 1), ('kind', 1), ('girl', 1), ('huong', 1), ('has', 1), ('many', 1), ('good', 1), ('qualities', 1), ('that', 1), ('i', 1), ('should', 1), ('learn', 1), ('from', 1), ('her', 1), ('we', 1), ('often', 1), ('invite', 1), ('each', 1), ('other', 1), ('to', 1), ('study', 1), ('extra', 1), ('at', 1), ('the', 1), ('library', 1), ('on', 1), ('weekends', 1), ('i', 1), ('have', 1), ('such', 1), ('good', 1), ('study', 1), ('results', 1), ('partly', 1), ('because', 1), ('huong', 1), ('always', 1), ('urges', 1), ('me', 1), ('so', 1), ('i', 1), ('feel', 1), ('very', 1), ('grateful', 1), ('to', 1), ('huong', 1), ('we', 1), ('will', 1), ('always', 1), ('be', 1), ('good', 1), ('friends', 1), ('when', 1), ('i', 1), ('was', 1), ('young', 1), ('my', 1), ('sister', 1), ('showed', 1), ('me', 1), ('the', 1), ('harry', 1), ('potter', 1), ('movie', 1), ('and', 1), ('i', 1), ('loved', 1), ('it', 1), ('so', 1), ('much', 1), ('that', 1), ('i', 1), ('cant', 1), ('remember', 1), ('how', 1), ('many', 1), ('times', 1), ('i', 1), ('watched', 1), ('it', 1), ('harry', 1), ('potter', 1), ('is', 1), ('a', 1), ('very', 1), ('famous', 1), ('and', 1), ('beloved', 1), ('movie', 1), ('based', 1), ('on', 1), ('the', 1), ('fantasy', 1), ('novel', 1), ('by', 1), ('j', 1), ('k', 1), ('rowling', 1), ('the', 1), ('series', 1), ('tells', 1), ('about', 1), ('the', 1), ('adventures', 1), ('of', 1), ('a', 1), ('boy', 1), ('named', 1), ('harry', 1), ('potter', 1), ('and', 1), ('his', 1), ('friends', 1), ('ron', 1), ('weasley', 1), ('and', 1), ('hermione', 1), ('granger', 1), ('who', 1), ('are', 1), ('studying', 1), ('at', 1), ('hogwarts', 1), ('school', 1), ('of', 1), ('witchcraft', 1), ('and', 1), ('wizardry', 1), ('they', 1), ('learn', 1), ('about', 1), ('the', 1), ('magical', 1), ('world', 1), ('face', 1), ('various', 1), ('challenges', 1), ('and', 1), ('eventually', 1), ('confront', 1), ('the', 1), ('dark', 1), ('wizard', 1), ('lord', 1), ('voldemort', 1), ('the', 1), ('details', 1), ('of', 1), ('the', 1), ('movie', 1), ('are', 1), ('very', 1), ('dramatic', 1), ('and', 1), ('attractive', 1), ('every', 1), ('time', 1), ('i', 1), ('watch', 1), ('it', 1), ('im', 1), ('so', 1), ('focused', 1), ('and', 1), ('cant', 1), ('stop', 1), ('my', 1), ('parents', 1), ('knew', 1), ('that', 1), ('i', 1), ('really', 1), ('liked', 1), ('the', 1), ('harry', 1), ('potter', 1), ('movie', 1), ('so', 1), ('they', 1), ('bought', 1), ('me', 1), ('a', 1), ('model', 1), ('set', 1), ('of', 1), ('the', 1), ('characters', 1), ('in', 1), ('the', 1), ('movie', 1), ('so', 1), ('i', 1), ('could', 1), ('display', 1), ('them', 1), ('in', 1), ('my', 1), ('bedroom', 1), ('this', 1), ('movie', 1), ('is', 1), ('very', 1), ('good', 1), ('and', 1), ('i', 1), ('highly', 1), ('recommend', 1), ('everyone', 1), ('try', 1), ('watching', 1), ('it', 1), ('once', 1)]\n",
            "\n",
            "Reduced Result:\n",
            "{'a': 10, 'able': 1, 'about': 2, 'academic': 1, 'actively': 1, 'activities': 3, 'addition': 1, 'adventures': 1, 'all': 1, 'also': 5, 'always': 6, 'am': 1, 'and': 15, 'any': 2, 'anything': 1, 'applications': 1, 'are': 9, 'around': 1, 'as': 4, 'at': 6, 'attractive': 1, 'bang': 3, 'based': 1, 'be': 3, 'beautiful': 1, 'because': 1, 'bedroom': 1, 'been': 2, 'beloved': 1, 'bought': 1, 'boy': 1, 'bustling': 1, 'but': 1, 'by': 1, 'can': 3, 'cant': 2, 'challenges': 1, 'characters': 1, 'children': 1, 'city': 1, 'close': 3, 'clubs': 1, 'code': 1, 'combination': 1, 'commonly': 1, 'community': 1, 'computer': 1, 'confront': 1, 'contain': 2, 'could': 1, 'dark': 1, 'data': 2, 'definitely': 1, 'details': 1, 'development': 1, 'difficulties': 1, 'display': 1, 'displayed': 1, 'do': 1, 'document': 2, 'documents': 1, 'dramatic': 1, 'each': 4, 'edited': 1, 'editor': 1, 'encounter': 1, 'enthusiastic': 1, 'eventually': 1, 'every': 1, 'everyone': 1, 'extra': 1, 'extracurricular': 1, 'face': 1, 'famous': 1, 'fantasy': 1, 'feel': 1, 'file': 1, 'files': 2, 'focused': 1, 'for': 4, 'formats': 1, 'formatting': 1, 'friend': 1, 'friends': 4, 'from': 1, 'fun': 1, 'furthermore': 1, 'girl': 1, 'go': 3, 'good': 5, 'granger': 1, 'grateful': 1, 'group': 2, 'harry': 4, 'has': 3, 'have': 4, 'having': 1, 'heart': 1, 'hello': 1, 'help': 2, 'helps': 1, 'her': 3, 'hermione': 1, 'highly': 1, 'his': 1, 'hogwarts': 1, 'home': 1, 'hong': 3, 'how': 1, 'html': 1, 'huong': 6, 'i': 19, 'if': 1, 'im': 2, 'in': 10, 'information': 1, 'innocent': 1, 'interesting': 1, 'invite': 1, 'is': 6, 'it': 6, 'j': 1, 'k': 1, 'kind': 2, 'knew': 1, 'layout': 1, 'learn': 2, 'learning': 1, 'leave': 1, 'library': 1, 'life': 1, 'like': 1, 'liked': 1, 'lists': 1, 'located': 1, 'lord': 1, 'love': 1, 'loved': 1, 'mac': 1, 'magical': 1, 'many': 5, 'me': 3, 'meet': 1, 'memories': 1, 'minh': 1, 'model': 1, 'movie': 6, 'much': 1, 'my': 5, 'name': 1, 'named': 1, 'neighbor': 1, 'new': 1, 'not': 2, 'notepad': 1, 'notes': 1, 'novel': 1, 'of': 6, 'often': 4, 'on': 5, 'once': 1, 'only': 2, 'opened': 1, 'opportunity': 1, 'or': 6, 'other': 7, 'out': 1, 'parents': 1, 'participate': 1, 'participates': 1, 'partly': 1, 'people': 1, 'person': 1, 'personal': 1, 'places': 1, 'plain': 1, 'playing': 1, 'point': 1, 'potter': 4, 'problems': 1, 'promote': 1, 'provide': 1, 'qualities': 1, 'ready': 1, 'really': 1, 'recommend': 1, 'remember': 2, 'results': 1, 'ron': 1, 'rowling': 1, 'sample': 1, 'say': 1, 'school': 8, 'scripts': 1, 'secondary': 3, 'series': 1, 'serving': 1, 'set': 1, 'sets': 1, 'she': 6, 'should': 1, 'showed': 1, 'simple': 1, 'since': 1, 'sister': 1, 'snippets': 1, 'so': 5, 'social': 1, 'solution': 1, 'sports': 1, 'stop': 1, 'store': 1, 'storing': 2, 'students': 2, 'studied': 1, 'study': 3, 'studying': 2, 'such': 3, 'teachers': 2, 'teams': 1, 'tells': 1, 'text': 4, 'textedit': 1, 'thanks': 1, 'that': 6, 'thats': 1, 'the': 20, 'them': 1, 'there': 1, 'these': 1, 'they': 6, 'things': 1, 'think': 1, 'this': 1, 'time': 1, 'times': 1, 'to': 17, 'together': 2, 'training': 1, 'try': 1, 'txt': 1, 'understand': 1, 'unformatted': 1, 'urges': 1, 'us': 1, 'used': 3, 'various': 1, 'very': 8, 'voldemort': 1, 'want': 1, 'was': 2, 'watch': 1, 'watched': 1, 'watching': 1, 'we': 9, 'weasley': 1, 'web': 1, 'weekends': 1, 'well': 2, 'went': 3, 'were': 1, 'when': 4, 'who': 1, 'why': 1, 'will': 3, 'windows': 1, 'witchcraft': 1, 'with': 2, 'without': 1, 'wizard': 1, 'wizardry': 1, 'world': 1, 'xml': 1, 'years': 1, 'young': 1}\n",
            "\n",
            "Grouped Result:\n",
            "{'a': [1, 1, 1, 1, 1, 1, 1, 1, 1, 1], 'able': [1], 'about': [1, 1], 'academic': [1], 'actively': [1], 'activities': [1, 1, 1], 'addition': [1], 'adventures': [1], 'all': [1], 'also': [1, 1, 1, 1, 1], 'always': [1, 1, 1, 1, 1, 1], 'am': [1], 'and': [1, 1, 1, 1, 1, 1, 1, 1, 1, 1, 1, 1, 1, 1, 1], 'any': [1, 1], 'anything': [1], 'applications': [1], 'are': [1, 1, 1, 1, 1, 1, 1, 1, 1], 'around': [1], 'as': [1, 1, 1, 1], 'at': [1, 1, 1, 1, 1, 1], 'attractive': [1], 'bang': [1, 1, 1], 'based': [1], 'be': [1, 1, 1], 'beautiful': [1], 'because': [1], 'bedroom': [1], 'been': [1, 1], 'beloved': [1], 'bought': [1], 'boy': [1], 'bustling': [1], 'but': [1], 'by': [1], 'can': [1, 1, 1], 'cant': [1, 1], 'challenges': [1], 'characters': [1], 'children': [1], 'city': [1], 'close': [1, 1, 1], 'clubs': [1], 'code': [1], 'combination': [1], 'commonly': [1], 'community': [1], 'computer': [1], 'confront': [1], 'contain': [1, 1], 'could': [1], 'dark': [1], 'data': [1, 1], 'definitely': [1], 'details': [1], 'development': [1], 'difficulties': [1], 'display': [1], 'displayed': [1], 'do': [1], 'document': [1, 1], 'documents': [1], 'dramatic': [1], 'each': [1, 1, 1, 1], 'edited': [1], 'editor': [1], 'encounter': [1], 'enthusiastic': [1], 'eventually': [1], 'every': [1], 'everyone': [1], 'extra': [1], 'extracurricular': [1], 'face': [1], 'famous': [1], 'fantasy': [1], 'feel': [1], 'file': [1], 'files': [1, 1], 'focused': [1], 'for': [1, 1, 1, 1], 'formats': [1], 'formatting': [1], 'friend': [1], 'friends': [1, 1, 1, 1], 'from': [1], 'fun': [1], 'furthermore': [1], 'girl': [1], 'go': [1, 1, 1], 'good': [1, 1, 1, 1, 1], 'granger': [1], 'grateful': [1], 'group': [1, 1], 'harry': [1, 1, 1, 1], 'has': [1, 1, 1], 'have': [1, 1, 1, 1], 'having': [1], 'heart': [1], 'hello': [1], 'help': [1, 1], 'helps': [1], 'her': [1, 1, 1], 'hermione': [1], 'highly': [1], 'his': [1], 'hogwarts': [1], 'home': [1], 'hong': [1, 1, 1], 'how': [1], 'html': [1], 'huong': [1, 1, 1, 1, 1, 1], 'i': [1, 1, 1, 1, 1, 1, 1, 1, 1, 1, 1, 1, 1, 1, 1, 1, 1, 1, 1], 'if': [1], 'im': [1, 1], 'in': [1, 1, 1, 1, 1, 1, 1, 1, 1, 1], 'information': [1], 'innocent': [1], 'interesting': [1], 'invite': [1], 'is': [1, 1, 1, 1, 1, 1], 'it': [1, 1, 1, 1, 1, 1], 'j': [1], 'k': [1], 'kind': [1, 1], 'knew': [1], 'layout': [1], 'learn': [1, 1], 'learning': [1], 'leave': [1], 'library': [1], 'life': [1], 'like': [1], 'liked': [1], 'lists': [1], 'located': [1], 'lord': [1], 'love': [1], 'loved': [1], 'mac': [1], 'magical': [1], 'many': [1, 1, 1, 1, 1], 'me': [1, 1, 1], 'meet': [1], 'memories': [1], 'minh': [1], 'model': [1], 'movie': [1, 1, 1, 1, 1, 1], 'much': [1], 'my': [1, 1, 1, 1, 1], 'name': [1], 'named': [1], 'neighbor': [1], 'new': [1], 'not': [1, 1], 'notepad': [1], 'notes': [1], 'novel': [1], 'of': [1, 1, 1, 1, 1, 1], 'often': [1, 1, 1, 1], 'on': [1, 1, 1, 1, 1], 'once': [1], 'only': [1, 1], 'opened': [1], 'opportunity': [1], 'or': [1, 1, 1, 1, 1, 1], 'other': [1, 1, 1, 1, 1, 1, 1], 'out': [1], 'parents': [1], 'participate': [1], 'participates': [1], 'partly': [1], 'people': [1], 'person': [1], 'personal': [1], 'places': [1], 'plain': [1], 'playing': [1], 'point': [1], 'potter': [1, 1, 1, 1], 'problems': [1], 'promote': [1], 'provide': [1], 'qualities': [1], 'ready': [1], 'really': [1], 'recommend': [1], 'remember': [1, 1], 'results': [1], 'ron': [1], 'rowling': [1], 'sample': [1], 'say': [1], 'school': [1, 1, 1, 1, 1, 1, 1, 1], 'scripts': [1], 'secondary': [1, 1, 1], 'series': [1], 'serving': [1], 'set': [1], 'sets': [1], 'she': [1, 1, 1, 1, 1, 1], 'should': [1], 'showed': [1], 'simple': [1], 'since': [1], 'sister': [1], 'snippets': [1], 'so': [1, 1, 1, 1, 1], 'social': [1], 'solution': [1], 'sports': [1], 'stop': [1], 'store': [1], 'storing': [1, 1], 'students': [1, 1], 'studied': [1], 'study': [1, 1, 1], 'studying': [1, 1], 'such': [1, 1, 1], 'teachers': [1, 1], 'teams': [1], 'tells': [1], 'text': [1, 1, 1, 1], 'textedit': [1], 'thanks': [1], 'that': [1, 1, 1, 1, 1, 1], 'thats': [1], 'the': [1, 1, 1, 1, 1, 1, 1, 1, 1, 1, 1, 1, 1, 1, 1, 1, 1, 1, 1, 1], 'them': [1], 'there': [1], 'these': [1], 'they': [1, 1, 1, 1, 1, 1], 'things': [1], 'think': [1], 'this': [1], 'time': [1], 'times': [1], 'to': [1, 1, 1, 1, 1, 1, 1, 1, 1, 1, 1, 1, 1, 1, 1, 1, 1], 'together': [1, 1], 'training': [1], 'try': [1], 'txt': [1], 'understand': [1], 'unformatted': [1], 'urges': [1], 'us': [1], 'used': [1, 1, 1], 'various': [1], 'very': [1, 1, 1, 1, 1, 1, 1, 1], 'voldemort': [1], 'want': [1], 'was': [1, 1], 'watch': [1], 'watched': [1], 'watching': [1], 'we': [1, 1, 1, 1, 1, 1, 1, 1, 1], 'weasley': [1], 'web': [1], 'weekends': [1], 'well': [1, 1], 'went': [1, 1, 1], 'were': [1], 'when': [1, 1, 1, 1], 'who': [1], 'why': [1], 'will': [1, 1, 1], 'windows': [1], 'witchcraft': [1], 'with': [1, 1], 'without': [1], 'wizard': [1], 'wizardry': [1], 'world': [1], 'xml': [1], 'years': [1], 'young': [1]}\n"
          ]
        }
      ]
    },
    {
      "cell_type": "code",
      "source": [
        "\n",
        "final_result = reduceByKey(lambda x, y: x + y, grouped_result)\n",
        "output_file_path = '/content/drive/MyDrive/Colab Notebooks/Big_Data/outputMapReduce.txt'\n",
        "with open(output_file_path, 'w') as output_file:\n",
        "    for key, value in final_result:\n",
        "        output_file.write(f'{key}\\t{value}\\n')\n",
        "print(f'\\nResult saved to {output_file_path}')"
      ],
      "metadata": {
        "colab": {
          "base_uri": "https://localhost:8080/"
        },
        "id": "b_L9GJp9ShWs",
        "outputId": "257d0e31-f236-4ab6-c4eb-e00b52e71982"
      },
      "execution_count": 26,
      "outputs": [
        {
          "output_type": "stream",
          "name": "stdout",
          "text": [
            "\n",
            "Result saved to /content/drive/MyDrive/Colab Notebooks/Big_Data/outputMapReduce.txt\n"
          ]
        }
      ]
    }
  ]
}