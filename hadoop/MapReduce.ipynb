{
  "nbformat": 4,
  "nbformat_minor": 0,
  "metadata": {
    "colab": {
      "provenance": []
    },
    "kernelspec": {
      "name": "python3",
      "display_name": "Python 3"
    },
    "language_info": {
      "name": "python"
    }
  },
  "cells": [
    {
      "cell_type": "code",
      "execution_count": null,
      "metadata": {
        "colab": {
          "base_uri": "https://localhost:8080/"
        },
        "id": "DUX0f37t68eX",
        "outputId": "33f5e077-d043-48f0-b0e7-b6366d680241"
      },
      "outputs": [
        {
          "output_type": "stream",
          "name": "stdout",
          "text": [
            "Mounted at /content/drive\n"
          ]
        }
      ],
      "source": [
        "from google.colab import drive\n",
        "drive.mount('/content/drive')"
      ]
    },
    {
      "cell_type": "code",
      "source": [
        "#Đọc file text\n",
        "file_path = '/content/drive/MyDrive/BIG DATA/data.txt'\n",
        "with open(file_path, 'r', encoding='utf-8') as file:\n",
        "        content = file.read()"
      ],
      "metadata": {
        "id": "S2Cc4KFD7SAT"
      },
      "execution_count": null,
      "outputs": []
    },
    {
      "cell_type": "code",
      "source": [
        "sentences = content.split('.')\n",
        "word_counts_per_sentence = []\n",
        "\n",
        "for sentence in sentences:\n",
        "    word_map = {}\n",
        "    words = sentence.split()\n",
        "    for word in words:\n",
        "        if word in word_map:\n",
        "            word_map[word] += 1\n",
        "        else:\n",
        "            word_map[word] = 1\n",
        "    word_counts_per_sentence.append(word_map)\n",
        "\n",
        "for i, word_map in enumerate(word_counts_per_sentence):\n",
        "    for key, value in word_map.items():\n",
        "        print(key, ':', value)\n",
        "with open('/content/drive/MyDrive/BIG DATA/MAP.txt', 'w') as f:\n",
        "  for i, word_map in enumerate(word_counts_per_sentence):\n",
        "    for key, value in word_map.items():\n",
        "        f.write(f\"{key} : {value}\\n\")"
      ],
      "metadata": {
        "id": "A9yhYqyX7gLt",
        "colab": {
          "base_uri": "https://localhost:8080/"
        },
        "outputId": "57aab0ff-ce3e-4e9a-9ca7-7e707de6ad60"
      },
      "execution_count": null,
      "outputs": [
        {
          "output_type": "stream",
          "name": "stdout",
          "text": [
            "In : 1\n",
            "the : 5\n",
            "heart : 1\n",
            "of : 3\n",
            "a : 2\n",
            "bustling : 1\n",
            "city, : 1\n",
            "where : 1\n",
            "skyscrapers : 1\n",
            "touch : 1\n",
            "clouds : 1\n",
            "and : 1\n",
            "streets : 1\n",
            "hum : 1\n",
            "with : 1\n",
            "rhythm : 1\n",
            "daily : 1\n",
            "life, : 1\n",
            "lies : 1\n",
            "world : 1\n",
            "endless : 1\n",
            "possibilities : 1\n",
            "The : 1\n",
            "vibrant : 1\n",
            "tapestry : 1\n",
            "of : 3\n",
            "cultures, : 1\n",
            "each : 1\n",
            "thread : 1\n",
            "woven : 1\n",
            "with : 1\n",
            "stories : 1\n",
            "triumph : 1\n",
            "and : 1\n",
            "resilience, : 1\n",
            "creates : 1\n",
            "a : 1\n",
            "mosaic : 1\n",
            "that : 1\n",
            "defines : 1\n",
            "the : 1\n",
            "very : 1\n",
            "essence : 1\n",
            "urban : 1\n",
            "existence : 1\n",
            "As : 1\n",
            "the : 3\n",
            "sun : 1\n",
            "rises : 1\n",
            "over : 1\n",
            "horizon, : 1\n",
            "casting : 1\n",
            "its : 1\n",
            "golden : 1\n",
            "glow : 1\n",
            "upon : 1\n",
            "cityscape, : 1\n",
            "people : 1\n",
            "from : 1\n",
            "all : 1\n",
            "walks : 1\n",
            "of : 1\n",
            "life : 1\n",
            "embark : 1\n",
            "on : 1\n",
            "their : 1\n",
            "daily : 1\n",
            "journeys : 1\n",
            "The : 1\n",
            "streets : 1\n",
            "become : 1\n",
            "a : 1\n",
            "stage : 2\n",
            "for : 1\n",
            "the : 2\n",
            "ballet : 1\n",
            "of : 2\n",
            "diversity, : 1\n",
            "where : 1\n",
            "harmonious : 1\n",
            "blend : 1\n",
            "languages, : 1\n",
            "traditions, : 1\n",
            "and : 1\n",
            "dreams : 1\n",
            "takes : 1\n",
            "center : 1\n",
            "Business : 1\n",
            "executives : 1\n",
            "stride : 1\n",
            "purposefully, : 1\n",
            "students : 1\n",
            "with : 1\n",
            "backpacks : 1\n",
            "navigate : 1\n",
            "the : 1\n",
            "maze : 1\n",
            "of : 1\n",
            "possibilities, : 1\n",
            "and : 1\n",
            "street : 1\n",
            "vendors : 1\n",
            "set : 1\n",
            "up : 1\n",
            "shop, : 1\n",
            "ready : 1\n",
            "to : 1\n",
            "share : 1\n",
            "their : 1\n",
            "culinary : 1\n",
            "delights : 1\n",
            "Amidst : 1\n",
            "the : 1\n",
            "hustle : 1\n",
            "and : 1\n",
            "bustle, : 1\n",
            "hidden : 1\n",
            "gems : 1\n",
            "await : 1\n",
            "discovery : 1\n",
            "Quaint : 1\n",
            "cafes : 1\n",
            "tucked : 1\n",
            "away : 1\n",
            "in : 1\n",
            "narrow : 1\n",
            "alleys : 1\n",
            "offer : 1\n",
            "a : 1\n",
            "respite : 1\n",
            "from : 1\n",
            "the : 3\n",
            "chaos, : 1\n",
            "where : 1\n",
            "aroma : 1\n",
            "of : 2\n",
            "freshly : 1\n",
            "brewed : 1\n",
            "coffee : 1\n",
            "mingles : 1\n",
            "with : 1\n",
            "laughter : 1\n",
            "friends : 1\n",
            "sharing : 1\n",
            "stories : 1\n",
            "Parks : 1\n",
            "adorned : 1\n",
            "with : 1\n",
            "blossoming : 1\n",
            "flowers : 1\n",
            "beckon : 1\n",
            "those : 1\n",
            "seeking : 1\n",
            "tranquility, : 1\n",
            "providing : 1\n",
            "a : 1\n",
            "sanctuary : 1\n",
            "amidst : 1\n",
            "the : 1\n",
            "urban : 1\n",
            "jungle : 1\n",
            "The : 1\n",
            "city's : 1\n",
            "heartbeat : 1\n",
            "resonates : 1\n",
            "through : 1\n",
            "its : 1\n",
            "landmarks : 1\n",
            "— : 1\n",
            "iconic : 1\n",
            "structures : 1\n",
            "that : 1\n",
            "stand : 1\n",
            "as : 1\n",
            "testaments : 1\n",
            "to : 1\n",
            "human : 1\n",
            "ingenuity : 1\n",
            "Skyscrapers : 1\n",
            "reach : 1\n",
            "for : 1\n",
            "the : 1\n",
            "heavens, : 1\n",
            "telling : 1\n",
            "tales : 1\n",
            "of : 2\n",
            "architectural : 1\n",
            "brilliance, : 1\n",
            "while : 1\n",
            "historic : 1\n",
            "monuments : 1\n",
            "whisper : 1\n",
            "secrets : 1\n",
            "bygone : 1\n",
            "eras : 1\n",
            "Museums : 1\n",
            "and : 1\n",
            "galleries : 1\n",
            "showcase : 1\n",
            "the : 2\n",
            "vibrant : 1\n",
            "tapestry : 1\n",
            "of : 2\n",
            "art, : 1\n",
            "preserving : 1\n",
            "collective : 1\n",
            "memory : 1\n",
            "a : 1\n",
            "society : 1\n",
            "that : 1\n",
            "evolves : 1\n",
            "with : 1\n",
            "each : 1\n",
            "passing : 1\n",
            "moment : 1\n",
            "Yet, : 1\n",
            "beneath : 1\n",
            "the : 1\n",
            "veneer : 1\n",
            "of : 1\n",
            "progress, : 1\n",
            "challenges : 1\n",
            "persist : 1\n",
            "The : 1\n",
            "city : 1\n",
            "grapples : 1\n",
            "with : 1\n",
            "the : 3\n",
            "dichotomy : 1\n",
            "of : 1\n",
            "wealth : 1\n",
            "and : 3\n",
            "poverty, : 1\n",
            "struggle : 1\n",
            "for : 1\n",
            "inclusivity, : 1\n",
            "delicate : 1\n",
            "balance : 1\n",
            "between : 1\n",
            "preserving : 1\n",
            "tradition : 1\n",
            "embracing : 1\n",
            "innovation : 1\n",
            "The : 1\n",
            "echoes : 1\n",
            "of : 2\n",
            "these : 1\n",
            "challenges : 1\n",
            "reverberate : 1\n",
            "through : 1\n",
            "the : 3\n",
            "streets, : 1\n",
            "urging : 1\n",
            "its : 1\n",
            "inhabitants : 1\n",
            "to : 1\n",
            "reflect : 1\n",
            "on : 1\n",
            "shared : 1\n",
            "responsibility : 1\n",
            "shaping : 1\n",
            "city's : 1\n",
            "future : 1\n",
            "In : 1\n",
            "this : 1\n",
            "metropolis, : 1\n",
            "dreams : 1\n",
            "take : 1\n",
            "flight : 1\n",
            "like : 1\n",
            "skyscrapers : 1\n",
            "piercing : 1\n",
            "the : 1\n",
            "sky : 1\n",
            "The : 1\n",
            "entrepreneur : 1\n",
            "envisions : 1\n",
            "a : 2\n",
            "thriving : 1\n",
            "business, : 1\n",
            "the : 4\n",
            "artist : 1\n",
            "imagines : 1\n",
            "masterpiece, : 1\n",
            "and : 1\n",
            "scientist : 1\n",
            "dreams : 1\n",
            "of : 2\n",
            "unlocking : 1\n",
            "mysteries : 1\n",
            "universe : 1\n",
            "As : 1\n",
            "aspirations : 1\n",
            "converge, : 1\n",
            "creating : 1\n",
            "a : 2\n",
            "symphony : 1\n",
            "of : 2\n",
            "ambition, : 1\n",
            "the : 1\n",
            "city : 1\n",
            "becomes : 1\n",
            "crucible : 1\n",
            "creativity : 1\n",
            "where : 1\n",
            "innovation : 1\n",
            "and : 1\n",
            "inspiration : 1\n",
            "collide : 1\n",
            "In : 1\n",
            "the : 3\n",
            "tapestry : 1\n",
            "of : 2\n",
            "urban : 1\n",
            "life, : 1\n",
            "each : 1\n",
            "individual : 1\n",
            "is : 1\n",
            "a : 1\n",
            "thread, : 1\n",
            "weaving : 1\n",
            "their : 1\n",
            "unique : 1\n",
            "story : 1\n",
            "into : 1\n",
            "fabric : 1\n",
            "city : 1\n",
            "Together, : 1\n",
            "they : 1\n",
            "form : 1\n",
            "a : 2\n",
            "narrative : 1\n",
            "that : 2\n",
            "transcends : 1\n",
            "time, : 1\n",
            "an : 1\n",
            "ever-evolving : 1\n",
            "epic : 1\n",
            "captures : 1\n",
            "the : 3\n",
            "spirit : 1\n",
            "of : 3\n",
            "community : 1\n",
            "united : 1\n",
            "by : 1\n",
            "pursuit : 1\n",
            "progress : 1\n",
            "and : 1\n",
            "celebration : 1\n",
            "diversity : 1\n",
            "The : 1\n",
            "city, : 1\n",
            "a : 2\n",
            "living : 1\n",
            "testament : 1\n",
            "to : 3\n",
            "human : 1\n",
            "resilience : 1\n",
            "and : 1\n",
            "aspiration, : 1\n",
            "continues : 1\n",
            "evolve, : 1\n",
            "promising : 1\n",
            "future : 1\n",
            "where : 1\n",
            "its : 1\n",
            "skyline : 1\n",
            "reflects : 1\n",
            "the : 1\n",
            "dreams : 1\n",
            "of : 1\n",
            "generations : 1\n",
            "yet : 1\n",
            "come : 1\n",
            "Title: : 1\n",
            "Exploring : 1\n",
            "the : 6\n",
            "Wonders : 1\n",
            "of : 3\n",
            "Nature : 1\n",
            "In : 1\n",
            "heart : 1\n",
            "nature's : 1\n",
            "embrace, : 1\n",
            "where : 1\n",
            "sun : 1\n",
            "kisses : 1\n",
            "sky : 1\n",
            "and : 1\n",
            "breeze : 1\n",
            "whispers : 1\n",
            "through : 1\n",
            "leaves, : 1\n",
            "lies : 1\n",
            "a : 1\n",
            "world : 1\n",
            "enchantment : 1\n",
            "waiting : 1\n",
            "to : 1\n",
            "be : 1\n",
            "discovered : 1\n",
            "From : 1\n",
            "the : 3\n",
            "towering : 1\n",
            "trees : 1\n",
            "that : 2\n",
            "sway : 1\n",
            "in : 2\n",
            "rhythmic : 1\n",
            "dance : 1\n",
            "to : 1\n",
            "vibrant : 1\n",
            "flowers : 1\n",
            "paint : 1\n",
            "landscape : 1\n",
            "with : 1\n",
            "hues : 1\n",
            "of : 1\n",
            "every : 2\n",
            "shade, : 1\n",
            "nature : 1\n",
            "is : 1\n",
            "an : 1\n",
            "artist : 1\n",
            "whose : 1\n",
            "masterpiece : 1\n",
            "unfolds : 1\n",
            "season : 1\n",
            "As : 1\n",
            "dawn : 1\n",
            "breaks, : 1\n",
            "the : 3\n",
            "symphony : 1\n",
            "of : 3\n",
            "birdsong : 1\n",
            "welcomes : 1\n",
            "a : 1\n",
            "new : 1\n",
            "day, : 1\n",
            "and : 1\n",
            "first : 1\n",
            "rays : 1\n",
            "sunlight : 1\n",
            "gently : 1\n",
            "touch : 1\n",
            "dew-kissed : 1\n",
            "petals : 1\n",
            "awakening : 1\n",
            "flowers : 1\n",
            "The : 1\n",
            "fragrance : 1\n",
            "of : 1\n",
            "the : 3\n",
            "earth : 1\n",
            "rises : 1\n",
            "with : 1\n",
            "morning : 1\n",
            "mist, : 1\n",
            "creating : 1\n",
            "a : 1\n",
            "magical : 1\n",
            "ambiance : 1\n",
            "that : 1\n",
            "awakens : 1\n",
            "senses : 1\n",
            "Journeying : 1\n",
            "through : 1\n",
            "dense : 1\n",
            "forests, : 1\n",
            "one : 1\n",
            "may : 1\n",
            "encounter : 1\n",
            "elusive : 1\n",
            "creatures, : 1\n",
            "each : 1\n",
            "with : 1\n",
            "a : 1\n",
            "story : 1\n",
            "to : 1\n",
            "tell : 1\n",
            "The : 1\n",
            "graceful : 1\n",
            "deer : 1\n",
            "gracefully : 1\n",
            "leaps : 1\n",
            "through : 1\n",
            "the : 3\n",
            "verdant : 1\n",
            "foliage, : 1\n",
            "and : 1\n",
            "playful : 1\n",
            "squirrel : 1\n",
            "scampers : 1\n",
            "up : 1\n",
            "tree : 1\n",
            "trunks : 1\n",
            "Nature's : 1\n",
            "theatre : 1\n",
            "is : 1\n",
            "filled : 1\n",
            "with : 1\n",
            "characters : 1\n",
            "big : 1\n",
            "and : 1\n",
            "small, : 1\n",
            "each : 1\n",
            "playing : 1\n",
            "a : 1\n",
            "vital : 1\n",
            "role : 1\n",
            "in : 1\n",
            "the : 2\n",
            "delicate : 1\n",
            "balance : 1\n",
            "of : 1\n",
            "ecosystem : 1\n",
            "Moving : 1\n",
            "from : 1\n",
            "the : 4\n",
            "lush : 1\n",
            "greenery : 1\n",
            "of : 2\n",
            "forests : 1\n",
            "to : 1\n",
            "majestic : 1\n",
            "mountains, : 1\n",
            "one : 1\n",
            "can : 1\n",
            "witness : 1\n",
            "raw : 1\n",
            "power : 1\n",
            "and : 1\n",
            "grandeur : 1\n",
            "nature : 1\n",
            "The : 1\n",
            "towering : 1\n",
            "peaks, : 1\n",
            "adorned : 1\n",
            "with : 1\n",
            "snow-capped : 1\n",
            "crowns, : 1\n",
            "stand : 1\n",
            "as : 1\n",
            "sentinels : 1\n",
            "of : 1\n",
            "time, : 1\n",
            "witnessing : 1\n",
            "the : 2\n",
            "changing : 1\n",
            "seasons : 1\n",
            "and : 1\n",
            "eons : 1\n",
            "that : 1\n",
            "pass : 1\n",
            "Descending : 1\n",
            "to : 1\n",
            "the : 3\n",
            "valleys, : 1\n",
            "crystal-clear : 1\n",
            "rivers : 1\n",
            "meander : 1\n",
            "through : 1\n",
            "landscape, : 1\n",
            "reflecting : 1\n",
            "azure : 1\n",
            "sky : 1\n",
            "above : 1\n",
            "The : 1\n",
            "rhythmic : 1\n",
            "flow : 1\n",
            "of : 2\n",
            "water, : 1\n",
            "harmonizing : 1\n",
            "with : 1\n",
            "the : 2\n",
            "melodies : 1\n",
            "nature, : 1\n",
            "paints : 1\n",
            "a : 1\n",
            "serene : 1\n",
            "picture : 1\n",
            "that : 1\n",
            "captivates : 1\n",
            "soul : 1\n",
            "In : 1\n",
            "the : 2\n",
            "heart : 1\n",
            "of : 1\n",
            "a : 1\n",
            "flower-filled : 1\n",
            "meadow, : 1\n",
            "butterflies : 1\n",
            "gracefully : 1\n",
            "flit : 1\n",
            "from : 1\n",
            "bloom : 1\n",
            "to : 1\n",
            "bloom, : 1\n",
            "sipping : 1\n",
            "nectar : 1\n",
            "as : 1\n",
            "if : 1\n",
            "painting : 1\n",
            "air : 1\n",
            "with : 1\n",
            "their : 1\n",
            "delicate : 1\n",
            "wings : 1\n",
            "Bees : 1\n",
            "hum : 1\n",
            "in : 1\n",
            "harmony, : 1\n",
            "busily : 1\n",
            "collecting : 1\n",
            "pollen, : 1\n",
            "contributing : 1\n",
            "to : 1\n",
            "the : 1\n",
            "circle : 1\n",
            "of : 1\n",
            "life : 1\n",
            "As : 1\n",
            "the : 1\n",
            "sun : 1\n",
            "sets, : 1\n",
            "nature : 1\n",
            "transforms : 1\n",
            "once : 1\n",
            "again : 1\n",
            "The : 1\n",
            "sky : 1\n",
            "transforms : 1\n",
            "into : 1\n",
            "a : 2\n",
            "canvas, : 1\n",
            "ablaze : 1\n",
            "with : 1\n",
            "hues : 1\n",
            "of : 1\n",
            "orange, : 1\n",
            "pink, : 1\n",
            "and : 1\n",
            "purple, : 1\n",
            "casting : 1\n",
            "warm : 1\n",
            "glow : 1\n",
            "upon : 1\n",
            "the : 1\n",
            "world : 1\n",
            "below : 1\n",
            "The : 1\n",
            "nocturnal : 1\n",
            "creatures : 1\n",
            "emerge, : 1\n",
            "and : 1\n",
            "the : 1\n",
            "moon, : 1\n",
            "a : 1\n",
            "silent : 1\n",
            "observer, : 1\n",
            "takes : 1\n",
            "center : 1\n",
            "stage : 1\n",
            "In : 1\n",
            "this : 1\n",
            "symphony : 1\n",
            "of : 2\n",
            "nature, : 1\n",
            "every : 1\n",
            "chapter : 1\n",
            "tells : 1\n",
            "a : 1\n",
            "tale : 1\n",
            "beauty, : 1\n",
            "resilience, : 1\n",
            "and : 1\n",
            "interconnectedness : 1\n",
            "The : 1\n",
            "wonders : 1\n",
            "of : 2\n",
            "nature : 1\n",
            "invite : 1\n",
            "us : 1\n",
            "to : 3\n",
            "be : 1\n",
            "curious : 1\n",
            "explorers, : 1\n",
            "cherish : 1\n",
            "the : 2\n",
            "delicate : 1\n",
            "balance : 1\n",
            "that : 1\n",
            "sustains : 1\n",
            "life, : 1\n",
            "and : 1\n",
            "marvel : 1\n",
            "at : 1\n",
            "intricate : 1\n",
            "details : 1\n",
            "our : 1\n",
            "natural : 1\n",
            "world : 1\n",
            "In : 1\n",
            "conclusion, : 1\n",
            "nature : 1\n",
            "is : 1\n",
            "a : 1\n",
            "source : 1\n",
            "of : 2\n",
            "endless : 1\n",
            "inspiration, : 1\n",
            "reminding : 1\n",
            "us : 2\n",
            "the : 1\n",
            "breathtaking : 1\n",
            "beauty : 1\n",
            "that : 1\n",
            "surrounds : 1\n",
            "Exploring : 1\n",
            "the : 2\n",
            "wonders : 1\n",
            "of : 2\n",
            "nature : 1\n",
            "is : 2\n",
            "not : 1\n",
            "merely : 1\n",
            "an : 1\n",
            "adventure; : 1\n",
            "it : 1\n",
            "a : 1\n",
            "journey : 1\n",
            "self-discovery, : 1\n",
            "humility, : 1\n",
            "and : 1\n",
            "gratitude : 1\n",
            "for : 1\n",
            "extraordinary : 1\n",
            "world : 1\n",
            "we : 1\n",
            "call : 1\n",
            "home : 1\n"
          ]
        }
      ]
    },
    {
      "cell_type": "code",
      "source": [
        "#REDUCE\n",
        "total_word_counts = {}\n",
        "\n",
        "for word_map in word_counts_per_sentence:\n",
        "    for word, count in word_map.items():\n",
        "        if word in total_word_counts:\n",
        "            total_word_counts[word] += count\n",
        "        else:\n",
        "            total_word_counts[word] = count\n",
        "\n",
        "for key, value in total_word_counts.items():\n",
        "    print(key, ':', value)\n",
        "\n",
        "with open('/content/drive/MyDrive/BIG DATA/REDUCE.txt', 'w') as f:\n",
        "    for key, value in total_word_counts.items():\n",
        "        f.write(f\"{key} : {value}\\n\")"
      ],
      "metadata": {
        "colab": {
          "base_uri": "https://localhost:8080/"
        },
        "id": "GYX8ZseD77oH",
        "outputId": "966dde4e-39b2-4b71-f086-15200be0f119"
      },
      "execution_count": null,
      "outputs": [
        {
          "output_type": "stream",
          "name": "stdout",
          "text": [
            "In : 7\n",
            "the : 82\n",
            "heart : 3\n",
            "of : 55\n",
            "a : 29\n",
            "bustling : 1\n",
            "city, : 2\n",
            "where : 6\n",
            "skyscrapers : 2\n",
            "touch : 2\n",
            "clouds : 1\n",
            "and : 24\n",
            "streets : 2\n",
            "hum : 2\n",
            "with : 15\n",
            "rhythm : 1\n",
            "daily : 2\n",
            "life, : 3\n",
            "lies : 2\n",
            "world : 5\n",
            "endless : 2\n",
            "possibilities : 1\n",
            "The : 14\n",
            "vibrant : 3\n",
            "tapestry : 3\n",
            "cultures, : 1\n",
            "each : 5\n",
            "thread : 1\n",
            "woven : 1\n",
            "stories : 2\n",
            "triumph : 1\n",
            "resilience, : 2\n",
            "creates : 1\n",
            "mosaic : 1\n",
            "that : 12\n",
            "defines : 1\n",
            "very : 1\n",
            "essence : 1\n",
            "urban : 3\n",
            "existence : 1\n",
            "As : 4\n",
            "sun : 3\n",
            "rises : 2\n",
            "over : 1\n",
            "horizon, : 1\n",
            "casting : 2\n",
            "its : 4\n",
            "golden : 1\n",
            "glow : 2\n",
            "upon : 2\n",
            "cityscape, : 1\n",
            "people : 1\n",
            "from : 4\n",
            "all : 1\n",
            "walks : 1\n",
            "life : 2\n",
            "embark : 1\n",
            "on : 2\n",
            "their : 4\n",
            "journeys : 1\n",
            "become : 1\n",
            "stage : 3\n",
            "for : 4\n",
            "ballet : 1\n",
            "diversity, : 1\n",
            "harmonious : 1\n",
            "blend : 1\n",
            "languages, : 1\n",
            "traditions, : 1\n",
            "dreams : 4\n",
            "takes : 2\n",
            "center : 2\n",
            "Business : 1\n",
            "executives : 1\n",
            "stride : 1\n",
            "purposefully, : 1\n",
            "students : 1\n",
            "backpacks : 1\n",
            "navigate : 1\n",
            "maze : 1\n",
            "possibilities, : 1\n",
            "street : 1\n",
            "vendors : 1\n",
            "set : 1\n",
            "up : 2\n",
            "shop, : 1\n",
            "ready : 1\n",
            "to : 16\n",
            "share : 1\n",
            "culinary : 1\n",
            "delights : 1\n",
            "Amidst : 1\n",
            "hustle : 1\n",
            "bustle, : 1\n",
            "hidden : 1\n",
            "gems : 1\n",
            "await : 1\n",
            "discovery : 1\n",
            "Quaint : 1\n",
            "cafes : 1\n",
            "tucked : 1\n",
            "away : 1\n",
            "in : 5\n",
            "narrow : 1\n",
            "alleys : 1\n",
            "offer : 1\n",
            "respite : 1\n",
            "chaos, : 1\n",
            "aroma : 1\n",
            "freshly : 1\n",
            "brewed : 1\n",
            "coffee : 1\n",
            "mingles : 1\n",
            "laughter : 1\n",
            "friends : 1\n",
            "sharing : 1\n",
            "Parks : 1\n",
            "adorned : 2\n",
            "blossoming : 1\n",
            "flowers : 3\n",
            "beckon : 1\n",
            "those : 1\n",
            "seeking : 1\n",
            "tranquility, : 1\n",
            "providing : 1\n",
            "sanctuary : 1\n",
            "amidst : 1\n",
            "jungle : 1\n",
            "city's : 2\n",
            "heartbeat : 1\n",
            "resonates : 1\n",
            "through : 6\n",
            "landmarks : 1\n",
            "— : 1\n",
            "iconic : 1\n",
            "structures : 1\n",
            "stand : 2\n",
            "as : 3\n",
            "testaments : 1\n",
            "human : 2\n",
            "ingenuity : 1\n",
            "Skyscrapers : 1\n",
            "reach : 1\n",
            "heavens, : 1\n",
            "telling : 1\n",
            "tales : 1\n",
            "architectural : 1\n",
            "brilliance, : 1\n",
            "while : 1\n",
            "historic : 1\n",
            "monuments : 1\n",
            "whisper : 1\n",
            "secrets : 1\n",
            "bygone : 1\n",
            "eras : 1\n",
            "Museums : 1\n",
            "galleries : 1\n",
            "showcase : 1\n",
            "art, : 1\n",
            "preserving : 2\n",
            "collective : 1\n",
            "memory : 1\n",
            "society : 1\n",
            "evolves : 1\n",
            "passing : 1\n",
            "moment : 1\n",
            "Yet, : 1\n",
            "beneath : 1\n",
            "veneer : 1\n",
            "progress, : 1\n",
            "challenges : 2\n",
            "persist : 1\n",
            "city : 3\n",
            "grapples : 1\n",
            "dichotomy : 1\n",
            "wealth : 1\n",
            "poverty, : 1\n",
            "struggle : 1\n",
            "inclusivity, : 1\n",
            "delicate : 4\n",
            "balance : 3\n",
            "between : 1\n",
            "tradition : 1\n",
            "embracing : 1\n",
            "innovation : 2\n",
            "echoes : 1\n",
            "these : 1\n",
            "reverberate : 1\n",
            "streets, : 1\n",
            "urging : 1\n",
            "inhabitants : 1\n",
            "reflect : 1\n",
            "shared : 1\n",
            "responsibility : 1\n",
            "shaping : 1\n",
            "future : 2\n",
            "this : 2\n",
            "metropolis, : 1\n",
            "take : 1\n",
            "flight : 1\n",
            "like : 1\n",
            "piercing : 1\n",
            "sky : 4\n",
            "entrepreneur : 1\n",
            "envisions : 1\n",
            "thriving : 1\n",
            "business, : 1\n",
            "artist : 2\n",
            "imagines : 1\n",
            "masterpiece, : 1\n",
            "scientist : 1\n",
            "unlocking : 1\n",
            "mysteries : 1\n",
            "universe : 1\n",
            "aspirations : 1\n",
            "converge, : 1\n",
            "creating : 2\n",
            "symphony : 3\n",
            "ambition, : 1\n",
            "becomes : 1\n",
            "crucible : 1\n",
            "creativity : 1\n",
            "inspiration : 1\n",
            "collide : 1\n",
            "individual : 1\n",
            "is : 6\n",
            "thread, : 1\n",
            "weaving : 1\n",
            "unique : 1\n",
            "story : 2\n",
            "into : 2\n",
            "fabric : 1\n",
            "Together, : 1\n",
            "they : 1\n",
            "form : 1\n",
            "narrative : 1\n",
            "transcends : 1\n",
            "time, : 2\n",
            "an : 3\n",
            "ever-evolving : 1\n",
            "epic : 1\n",
            "captures : 1\n",
            "spirit : 1\n",
            "community : 1\n",
            "united : 1\n",
            "by : 1\n",
            "pursuit : 1\n",
            "progress : 1\n",
            "celebration : 1\n",
            "diversity : 1\n",
            "living : 1\n",
            "testament : 1\n",
            "resilience : 1\n",
            "aspiration, : 1\n",
            "continues : 1\n",
            "evolve, : 1\n",
            "promising : 1\n",
            "skyline : 1\n",
            "reflects : 1\n",
            "generations : 1\n",
            "yet : 1\n",
            "come : 1\n",
            "Title: : 1\n",
            "Exploring : 2\n",
            "Wonders : 1\n",
            "Nature : 1\n",
            "nature's : 1\n",
            "embrace, : 1\n",
            "kisses : 1\n",
            "breeze : 1\n",
            "whispers : 1\n",
            "leaves, : 1\n",
            "enchantment : 1\n",
            "waiting : 1\n",
            "be : 2\n",
            "discovered : 1\n",
            "From : 1\n",
            "towering : 2\n",
            "trees : 1\n",
            "sway : 1\n",
            "rhythmic : 2\n",
            "dance : 1\n",
            "paint : 1\n",
            "landscape : 1\n",
            "hues : 2\n",
            "every : 3\n",
            "shade, : 1\n",
            "nature : 6\n",
            "whose : 1\n",
            "masterpiece : 1\n",
            "unfolds : 1\n",
            "season : 1\n",
            "dawn : 1\n",
            "breaks, : 1\n",
            "birdsong : 1\n",
            "welcomes : 1\n",
            "new : 1\n",
            "day, : 1\n",
            "first : 1\n",
            "rays : 1\n",
            "sunlight : 1\n",
            "gently : 1\n",
            "dew-kissed : 1\n",
            "petals : 1\n",
            "awakening : 1\n",
            "fragrance : 1\n",
            "earth : 1\n",
            "morning : 1\n",
            "mist, : 1\n",
            "magical : 1\n",
            "ambiance : 1\n",
            "awakens : 1\n",
            "senses : 1\n",
            "Journeying : 1\n",
            "dense : 1\n",
            "forests, : 1\n",
            "one : 2\n",
            "may : 1\n",
            "encounter : 1\n",
            "elusive : 1\n",
            "creatures, : 1\n",
            "tell : 1\n",
            "graceful : 1\n",
            "deer : 1\n",
            "gracefully : 2\n",
            "leaps : 1\n",
            "verdant : 1\n",
            "foliage, : 1\n",
            "playful : 1\n",
            "squirrel : 1\n",
            "scampers : 1\n",
            "tree : 1\n",
            "trunks : 1\n",
            "Nature's : 1\n",
            "theatre : 1\n",
            "filled : 1\n",
            "characters : 1\n",
            "big : 1\n",
            "small, : 1\n",
            "playing : 1\n",
            "vital : 1\n",
            "role : 1\n",
            "ecosystem : 1\n",
            "Moving : 1\n",
            "lush : 1\n",
            "greenery : 1\n",
            "forests : 1\n",
            "majestic : 1\n",
            "mountains, : 1\n",
            "can : 1\n",
            "witness : 1\n",
            "raw : 1\n",
            "power : 1\n",
            "grandeur : 1\n",
            "peaks, : 1\n",
            "snow-capped : 1\n",
            "crowns, : 1\n",
            "sentinels : 1\n",
            "witnessing : 1\n",
            "changing : 1\n",
            "seasons : 1\n",
            "eons : 1\n",
            "pass : 1\n",
            "Descending : 1\n",
            "valleys, : 1\n",
            "crystal-clear : 1\n",
            "rivers : 1\n",
            "meander : 1\n",
            "landscape, : 1\n",
            "reflecting : 1\n",
            "azure : 1\n",
            "above : 1\n",
            "flow : 1\n",
            "water, : 1\n",
            "harmonizing : 1\n",
            "melodies : 1\n",
            "nature, : 2\n",
            "paints : 1\n",
            "serene : 1\n",
            "picture : 1\n",
            "captivates : 1\n",
            "soul : 1\n",
            "flower-filled : 1\n",
            "meadow, : 1\n",
            "butterflies : 1\n",
            "flit : 1\n",
            "bloom : 1\n",
            "bloom, : 1\n",
            "sipping : 1\n",
            "nectar : 1\n",
            "if : 1\n",
            "painting : 1\n",
            "air : 1\n",
            "wings : 1\n",
            "Bees : 1\n",
            "harmony, : 1\n",
            "busily : 1\n",
            "collecting : 1\n",
            "pollen, : 1\n",
            "contributing : 1\n",
            "circle : 1\n",
            "sets, : 1\n",
            "transforms : 2\n",
            "once : 1\n",
            "again : 1\n",
            "canvas, : 1\n",
            "ablaze : 1\n",
            "orange, : 1\n",
            "pink, : 1\n",
            "purple, : 1\n",
            "warm : 1\n",
            "below : 1\n",
            "nocturnal : 1\n",
            "creatures : 1\n",
            "emerge, : 1\n",
            "moon, : 1\n",
            "silent : 1\n",
            "observer, : 1\n",
            "chapter : 1\n",
            "tells : 1\n",
            "tale : 1\n",
            "beauty, : 1\n",
            "interconnectedness : 1\n",
            "wonders : 2\n",
            "invite : 1\n",
            "us : 3\n",
            "curious : 1\n",
            "explorers, : 1\n",
            "cherish : 1\n",
            "sustains : 1\n",
            "marvel : 1\n",
            "at : 1\n",
            "intricate : 1\n",
            "details : 1\n",
            "our : 1\n",
            "natural : 1\n",
            "conclusion, : 1\n",
            "source : 1\n",
            "inspiration, : 1\n",
            "reminding : 1\n",
            "breathtaking : 1\n",
            "beauty : 1\n",
            "surrounds : 1\n",
            "not : 1\n",
            "merely : 1\n",
            "adventure; : 1\n",
            "it : 1\n",
            "journey : 1\n",
            "self-discovery, : 1\n",
            "humility, : 1\n",
            "gratitude : 1\n",
            "extraordinary : 1\n",
            "we : 1\n",
            "call : 1\n",
            "home : 1\n"
          ]
        }
      ]
    },
    {
      "cell_type": "code",
      "source": [
        "def double_everything_in(data):\n",
        "    result = []\n",
        "    for i in data:\n",
        "        result.append(2 * i)\n",
        "    return result\n",
        "\n",
        "def quadruple_everything_in(data):\n",
        "    result = []\n",
        "    for i in data:\n",
        "        result.append(4 * i)\n",
        "    return result"
      ],
      "metadata": {
        "id": "1eJUAy70_gkv"
      },
      "execution_count": null,
      "outputs": []
    },
    {
      "cell_type": "code",
      "source": [
        "double_everything_in([1, 2, 3, 4, 5])"
      ],
      "metadata": {
        "colab": {
          "base_uri": "https://localhost:8080/"
        },
        "id": "ddT6sQs5_nv9",
        "outputId": "68b8168d-4f0c-4c39-8d5a-7f80be0b5e61"
      },
      "execution_count": null,
      "outputs": [
        {
          "output_type": "execute_result",
          "data": {
            "text/plain": [
              "[2, 4, 6, 8, 10]"
            ]
          },
          "metadata": {},
          "execution_count": 8
        }
      ]
    },
    {
      "cell_type": "code",
      "source": [
        "quadruple_everything_in(['a', 2, 3, 4, 5])"
      ],
      "metadata": {
        "colab": {
          "base_uri": "https://localhost:8080/"
        },
        "id": "49LbIv_eAGK9",
        "outputId": "ed65f4c8-a14c-4194-d1b4-ba4b4433b562"
      },
      "execution_count": null,
      "outputs": [
        {
          "output_type": "execute_result",
          "data": {
            "text/plain": [
              "['aaaa', 8, 12, 16, 20]"
            ]
          },
          "metadata": {},
          "execution_count": 9
        }
      ]
    },
    {
      "cell_type": "code",
      "source": [
        "def multiply_by_x_everything_in(x, data):\n",
        "    result = []\n",
        "    for i in data:\n",
        "        result.append(x * i)\n",
        "    return result"
      ],
      "metadata": {
        "id": "Lw1d4vFbAQta"
      },
      "execution_count": null,
      "outputs": []
    },
    {
      "cell_type": "code",
      "source": [
        "multiply_by_x_everything_in(3, ['a', 'b', 3, 4, 5])"
      ],
      "metadata": {
        "colab": {
          "base_uri": "https://localhost:8080/"
        },
        "id": "xlweSf5tAXMk",
        "outputId": "9ff7b691-b558-4261-a2d8-617b6b73fa01"
      },
      "execution_count": null,
      "outputs": [
        {
          "output_type": "execute_result",
          "data": {
            "text/plain": [
              "['aaa', 'bbb', 9, 12, 15]"
            ]
          },
          "metadata": {},
          "execution_count": 11
        }
      ]
    },
    {
      "cell_type": "code",
      "source": [
        "def squared(x):\n",
        "    return x*x\n",
        "\n",
        "def double(x):\n",
        "    return x*2\n",
        "\n",
        "def square_everything_in(data):\n",
        "    result = []\n",
        "    for i in data:\n",
        "        result.append(squared(i))\n",
        "    return result\n",
        "\n",
        "def double_everything_in(data):\n",
        "    result = []\n",
        "    for i in data:\n",
        "        result.append(double(i))\n",
        "    return result"
      ],
      "metadata": {
        "id": "33rXj6cZAx5W"
      },
      "execution_count": null,
      "outputs": []
    },
    {
      "cell_type": "code",
      "source": [
        "square_everything_in([1, 2, 3, 4, 5])"
      ],
      "metadata": {
        "colab": {
          "base_uri": "https://localhost:8080/"
        },
        "id": "T2sf4Bh1BDM2",
        "outputId": "0e1b89ba-fc09-45c9-8903-bd0ed9e8cdac"
      },
      "execution_count": null,
      "outputs": [
        {
          "output_type": "execute_result",
          "data": {
            "text/plain": [
              "[1, 4, 9, 16, 25]"
            ]
          },
          "metadata": {},
          "execution_count": 13
        }
      ]
    },
    {
      "cell_type": "code",
      "source": [
        "double_everything_in([1, 2, 3, 4, 5])"
      ],
      "metadata": {
        "colab": {
          "base_uri": "https://localhost:8080/"
        },
        "id": "DlDoXh4yBGu6",
        "outputId": "b936f2f5-3764-433b-bbc6-5ef0bfa3ca62"
      },
      "execution_count": null,
      "outputs": [
        {
          "output_type": "execute_result",
          "data": {
            "text/plain": [
              "[2, 4, 6, 8, 10]"
            ]
          },
          "metadata": {},
          "execution_count": 14
        }
      ]
    },
    {
      "cell_type": "code",
      "source": [
        "def apply_f_to_everything_in(f, data):\n",
        "    result = []\n",
        "    for x in data:\n",
        "        result.append(f(x))\n",
        "    return result"
      ],
      "metadata": {
        "id": "5gxriw_uBJ_d"
      },
      "execution_count": null,
      "outputs": []
    },
    {
      "cell_type": "code",
      "source": [
        "apply_f_to_everything_in(squared, [1, 2, 3, 4, 5])"
      ],
      "metadata": {
        "colab": {
          "base_uri": "https://localhost:8080/"
        },
        "id": "Xn9we0VpBPCJ",
        "outputId": "11a9bd20-5a7a-4232-89eb-4a339ccf08de"
      },
      "execution_count": null,
      "outputs": [
        {
          "output_type": "execute_result",
          "data": {
            "text/plain": [
              "[1, 4, 9, 16, 25]"
            ]
          },
          "metadata": {},
          "execution_count": 16
        }
      ]
    },
    {
      "cell_type": "code",
      "source": [
        "apply_f_to_everything_in(lambda x: x*x*x, [1, 2, 3, 4, 5])"
      ],
      "metadata": {
        "colab": {
          "base_uri": "https://localhost:8080/"
        },
        "id": "f52AvjBMBS3B",
        "outputId": "2830b4ce-b328-4645-b3b0-ac74d5b0d581"
      },
      "execution_count": null,
      "outputs": [
        {
          "output_type": "execute_result",
          "data": {
            "text/plain": [
              "[1, 8, 27, 64, 125]"
            ]
          },
          "metadata": {},
          "execution_count": 17
        }
      ]
    },
    {
      "cell_type": "code",
      "source": [
        "map(lambda x: x*x, [1, 2, 3, 4, 5])"
      ],
      "metadata": {
        "colab": {
          "base_uri": "https://localhost:8080/"
        },
        "id": "NQf9V3Z7BbD8",
        "outputId": "688c3bad-6476-4d36-e6ed-a79b1f4ae412"
      },
      "execution_count": null,
      "outputs": [
        {
          "output_type": "execute_result",
          "data": {
            "text/plain": [
              "<map at 0x787f01bf3e50>"
            ]
          },
          "metadata": {},
          "execution_count": 18
        }
      ]
    },
    {
      "cell_type": "code",
      "source": [
        "def foldl(f, data, z):\n",
        "    if (len(data) == 0):\n",
        "        print (z)\n",
        "        return z\n",
        "    else:\n",
        "        head = data[0]\n",
        "        tail = data[1:]\n",
        "        print (\"Folding\", head, \"with\", tail, \"using\", z)\n",
        "        partial_result = f(z, data[0])\n",
        "        print (\"Partial result is\", partial_result)\n",
        "        return foldl(f, tail, partial_result)"
      ],
      "metadata": {
        "id": "-ACKgSerBhtk"
      },
      "execution_count": null,
      "outputs": []
    },
    {
      "cell_type": "code",
      "source": [
        "def add(x, y):\n",
        "    return x + y\n",
        "\n",
        "foldl(add, [3, 3, 3, 3, 3], 0)"
      ],
      "metadata": {
        "colab": {
          "base_uri": "https://localhost:8080/"
        },
        "id": "ja2YvdO8Bkxu",
        "outputId": "8cfb774a-1fb4-4371-ed14-af316f8dfb09"
      },
      "execution_count": null,
      "outputs": [
        {
          "output_type": "stream",
          "name": "stdout",
          "text": [
            "Folding 3 with [3, 3, 3, 3] using 0\n",
            "Partial result is 3\n",
            "Folding 3 with [3, 3, 3] using 3\n",
            "Partial result is 6\n",
            "Folding 3 with [3, 3] using 6\n",
            "Partial result is 9\n",
            "Folding 3 with [3] using 9\n",
            "Partial result is 12\n",
            "Folding 3 with [] using 12\n",
            "Partial result is 15\n",
            "15\n"
          ]
        },
        {
          "output_type": "execute_result",
          "data": {
            "text/plain": [
              "15"
            ]
          },
          "metadata": {},
          "execution_count": 21
        }
      ]
    },
    {
      "cell_type": "code",
      "source": [
        "foldl(lambda x, y: x / y, [1, 2, 3, 4, 5], 90)"
      ],
      "metadata": {
        "colab": {
          "base_uri": "https://localhost:8080/"
        },
        "id": "xsK0j6E6CVdl",
        "outputId": "da18bf19-1b00-4881-c584-b2577c00376c"
      },
      "execution_count": null,
      "outputs": [
        {
          "output_type": "stream",
          "name": "stdout",
          "text": [
            "Folding 1 with [2, 3, 4, 5] using 90\n",
            "Partial result is 90.0\n",
            "Folding 2 with [3, 4, 5] using 90.0\n",
            "Partial result is 45.0\n",
            "Folding 3 with [4, 5] using 45.0\n",
            "Partial result is 15.0\n",
            "Folding 4 with [5] using 15.0\n",
            "Partial result is 3.75\n",
            "Folding 5 with [] using 3.75\n",
            "Partial result is 0.75\n",
            "0.75\n"
          ]
        },
        {
          "output_type": "execute_result",
          "data": {
            "text/plain": [
              "0.75"
            ]
          },
          "metadata": {},
          "execution_count": 23
        }
      ]
    },
    {
      "cell_type": "code",
      "source": [
        "(((((0 - 1) - 2) - 3) - 4) - 5)"
      ],
      "metadata": {
        "colab": {
          "base_uri": "https://localhost:8080/"
        },
        "id": "KlHZXOAaCcQO",
        "outputId": "3bbccefa-831f-4900-96dd-9fcd94ac2904"
      },
      "execution_count": null,
      "outputs": [
        {
          "output_type": "execute_result",
          "data": {
            "text/plain": [
              "-15"
            ]
          },
          "metadata": {},
          "execution_count": 24
        }
      ]
    },
    {
      "cell_type": "code",
      "source": [
        "(1 - (2 - (3 - (4 - (5 - 0)))))"
      ],
      "metadata": {
        "colab": {
          "base_uri": "https://localhost:8080/"
        },
        "id": "4o1HJl7bGTYB",
        "outputId": "0adac057-eee6-4383-b7b8-7634ea0d711c"
      },
      "execution_count": null,
      "outputs": [
        {
          "output_type": "execute_result",
          "data": {
            "text/plain": [
              "3"
            ]
          },
          "metadata": {},
          "execution_count": 25
        }
      ]
    },
    {
      "cell_type": "code",
      "source": [
        "def foldr(f, data, z): # Hàm này giống trường hợp (1 - (2 - (3 - (4 - (5 - 0)))))\n",
        "    if (len(data) == 0):\n",
        "        return z\n",
        "    else:\n",
        "        return f(data[0], foldr(f, data[1:], z))\n"
      ],
      "metadata": {
        "id": "RvBS1EyIC3eg"
      },
      "execution_count": null,
      "outputs": []
    },
    {
      "cell_type": "code",
      "source": [
        "foldr(lambda x, y: x - y,  [1, 2, 3, 4, 5], 0)"
      ],
      "metadata": {
        "colab": {
          "base_uri": "https://localhost:8080/"
        },
        "id": "haVcJCznDZms",
        "outputId": "6bb03201-15e1-4801-f8d5-d45c03ed1f15"
      },
      "execution_count": null,
      "outputs": [
        {
          "output_type": "execute_result",
          "data": {
            "text/plain": [
              "3"
            ]
          },
          "metadata": {},
          "execution_count": 27
        }
      ]
    },
    {
      "cell_type": "code",
      "source": [
        "from functools import reduce\n",
        "reduce(lambda x, y: x + y, [1, 2, 3, 4, 5],0)"
      ],
      "metadata": {
        "colab": {
          "base_uri": "https://localhost:8080/"
        },
        "id": "O3FTbv-JGd8i",
        "outputId": "1c060822-6bfe-4c31-987b-139c1f6315a4"
      },
      "execution_count": null,
      "outputs": [
        {
          "output_type": "execute_result",
          "data": {
            "text/plain": [
              "15"
            ]
          },
          "metadata": {},
          "execution_count": 29
        }
      ]
    },
    {
      "cell_type": "code",
      "source": [
        "reduce(lambda x, y: x - y, [1, 2, 3, 4, 5], 0)"
      ],
      "metadata": {
        "colab": {
          "base_uri": "https://localhost:8080/"
        },
        "id": "ZW-FS-9FGvg5",
        "outputId": "6e78af0c-0320-40ae-ba64-01f3c109e4a0"
      },
      "execution_count": null,
      "outputs": [
        {
          "output_type": "execute_result",
          "data": {
            "text/plain": [
              "-15"
            ]
          },
          "metadata": {},
          "execution_count": 30
        }
      ]
    },
    {
      "cell_type": "code",
      "source": [
        "def perform_computation(f, result, data, i):\n",
        "    print (\"Computing the \", i, \"th result...\")\n",
        "    # This could be scheduled on a different CPU\n",
        "    result[i] = f(data[i])\n",
        "\n",
        "def my_map(f, data):\n",
        "    result = [None] * len(data)\n",
        "    for i in range(len(data)):\n",
        "        perform_computation(f, result, data, i)\n",
        "    # Wait for other CPUs to finish, and then..\n",
        "    return result"
      ],
      "metadata": {
        "id": "UcfytP--G7AT"
      },
      "execution_count": null,
      "outputs": []
    },
    {
      "cell_type": "code",
      "source": [
        "my_map(lambda x: x + x, [1, 2, 3, 4])"
      ],
      "metadata": {
        "colab": {
          "base_uri": "https://localhost:8080/"
        },
        "id": "j6bVs2XwG9wb",
        "outputId": "7a85fd53-3621-47f4-ed7a-75b5ed06e7c6"
      },
      "execution_count": null,
      "outputs": [
        {
          "output_type": "stream",
          "name": "stdout",
          "text": [
            "Computing the  0 th result...\n",
            "Computing the  1 th result...\n",
            "Computing the  2 th result...\n",
            "Computing the  3 th result...\n"
          ]
        },
        {
          "output_type": "execute_result",
          "data": {
            "text/plain": [
              "[2, 4, 6, 8]"
            ]
          },
          "metadata": {},
          "execution_count": 32
        }
      ]
    },
    {
      "cell_type": "code",
      "source": [
        "from threading import Thread\n",
        "\n",
        "def schedule_computation_threaded(f, result, data, threads, i):\n",
        "    # Each function evaluation is scheduled on a different core.\n",
        "    def my_job():\n",
        "        print (\"Processing data:\", data[i], \"... \")\n",
        "        result[i] = f(data[i])\n",
        "        print (\"Finished job #\", i)\n",
        "        print (\"Result was\", result[i])\n",
        "    threads[i] = Thread(target=my_job)\n",
        "\n",
        "def my_map_multithreaded(f, data):\n",
        "    n = len(data)\n",
        "    result = [None] * n\n",
        "    threads = [None] * n\n",
        "    print (\"Scheduling jobs.. \")\n",
        "    for i in range(n):\n",
        "        schedule_computation_threaded(f, result, data, threads, i)\n",
        "    print (\"Starting jobs.. \")\n",
        "    for i in range(n):\n",
        "        threads[i].start()\n",
        "    print (\"Waiting for jobs to finish.. \")\n",
        "    for i in range(n):\n",
        "        threads[i].join()\n",
        "    print (\"All done.\")\n",
        "    return result"
      ],
      "metadata": {
        "id": "hE6JWSi0H5qN"
      },
      "execution_count": null,
      "outputs": []
    },
    {
      "cell_type": "code",
      "source": [
        "my_map_multithreaded(lambda x: x*x, [1, 2, 3, 4, 5])"
      ],
      "metadata": {
        "colab": {
          "base_uri": "https://localhost:8080/"
        },
        "id": "7mzexgh-IASr",
        "outputId": "3d26c223-ebeb-493d-b384-a184c35f4406"
      },
      "execution_count": null,
      "outputs": [
        {
          "output_type": "stream",
          "name": "stdout",
          "text": [
            "Scheduling jobs.. \n",
            "Starting jobs.. \n",
            "Processing data: 1 ... \n",
            "Finished job # 0\n",
            "Result was 1\n",
            "Processing data: 2 ... \n",
            "Finished job # 1\n",
            "Result was 4\n",
            "Processing data:Processing data:Processing data: 5Waiting for jobs to finish.. \n",
            " 3 ... \n",
            "Finished job # 2\n",
            "Result was 9\n",
            " 4 ... \n",
            "Finished job # 3\n",
            "Result was 16\n",
            " ... \n",
            "Finished job # 4\n",
            "Result was 25\n",
            "All done.\n"
          ]
        },
        {
          "output_type": "execute_result",
          "data": {
            "text/plain": [
              "[1, 4, 9, 16, 25]"
            ]
          },
          "metadata": {},
          "execution_count": 60
        }
      ]
    },
    {
      "cell_type": "code",
      "source": [
        "from numpy.random import uniform\n",
        "from time import sleep\n",
        "\n",
        "def a_function_which_takes_a_long_time(x):\n",
        "    sleep(uniform(2, 10))  # Simulate some long computation\n",
        "    return x*x\n",
        "\n",
        "my_map_multithreaded(a_function_which_takes_a_long_time, [1, 2, 3, 4, 5])"
      ],
      "metadata": {
        "colab": {
          "base_uri": "https://localhost:8080/"
        },
        "id": "lmtJphApIE8K",
        "outputId": "49652ef0-134d-4d87-9706-5ccc803fb963"
      },
      "execution_count": null,
      "outputs": [
        {
          "output_type": "stream",
          "name": "stdout",
          "text": [
            "Scheduling jobs.. \n",
            "Starting jobs.. \n",
            "Processing data: 1 ... \n",
            "Processing data: 2 ... \n",
            "Processing data: 3 Processing data:Processing data: ... \n",
            "Waiting for jobs to finish.. \n",
            " 4 ... \n",
            "5 ... \n",
            "Finished job # 2\n",
            "Result was 9\n",
            "Finished job # 3\n",
            "Result was 16\n",
            "Finished job # 1\n",
            "Result was 4\n",
            "Finished job # 4\n",
            "Result was 25\n",
            "Finished job # 0\n",
            "Result was 1\n",
            "All done.\n"
          ]
        },
        {
          "output_type": "execute_result",
          "data": {
            "text/plain": [
              "[1, 4, 9, 16, 25]"
            ]
          },
          "metadata": {},
          "execution_count": 61
        }
      ]
    },
    {
      "cell_type": "code",
      "source": [
        "def groupByKey(data):\n",
        "    result = dict()\n",
        "    for key, value in data:\n",
        "        if key in result:\n",
        "            result[key].append(value)\n",
        "        else:\n",
        "            result[key] = [value]\n",
        "    return result\n",
        "\n",
        "def reduceByKey(f, data):\n",
        "    key_values = groupByKey(data)\n",
        "    return map(lambda key:\n",
        "                   (key, reduce(f, key_values[key])),\n",
        "                       key_values)"
      ],
      "metadata": {
        "id": "zAWwuEreIRQt"
      },
      "execution_count": null,
      "outputs": []
    },
    {
      "cell_type": "code",
      "source": [
        "data = map(lambda x: (x,1), content.split())\n",
        "data"
      ],
      "metadata": {
        "colab": {
          "base_uri": "https://localhost:8080/"
        },
        "id": "5ZsCNRFbIXKs",
        "outputId": "e4ececfb-2804-4cd9-fc13-93ccabc366fd"
      },
      "execution_count": null,
      "outputs": [
        {
          "output_type": "execute_result",
          "data": {
            "text/plain": [
              "<map at 0x7e0ea84967d0>"
            ]
          },
          "metadata": {},
          "execution_count": 180
        }
      ]
    },
    {
      "cell_type": "code",
      "source": [
        "a = groupByKey(data)"
      ],
      "metadata": {
        "id": "QoayD8QBIcHh"
      },
      "execution_count": null,
      "outputs": []
    },
    {
      "cell_type": "code",
      "source": [
        "result = reduceByKey(lambda x, y: x + y, a)\n",
        "list(result)"
      ],
      "metadata": {
        "colab": {
          "base_uri": "https://localhost:8080/"
        },
        "id": "TrWGT-SlI89C",
        "outputId": "3358ea32-fc15-4fa9-f339-0396beeffd97"
      },
      "execution_count": null,
      "outputs": [
        {
          "output_type": "execute_result",
          "data": {
            "text/plain": [
              "[]"
            ]
          },
          "metadata": {},
          "execution_count": 191
        }
      ]
    },
    {
      "cell_type": "code",
      "source": [
        "def reduceByKey_multithreaded(f, data):\n",
        "    key_values = groupByKey(data)\n",
        "    return my_map_multithreaded(\n",
        "        lambda key: (key, reduce(f, key_values[key])), key_values.keys())"
      ],
      "metadata": {
        "id": "4LbfZremLdOG"
      },
      "execution_count": null,
      "outputs": []
    },
    {
      "cell_type": "code",
      "source": [
        "reduceByKey_multithreaded(lambda x, y: x + y, list(data))"
      ],
      "metadata": {
        "colab": {
          "base_uri": "https://localhost:8080/"
        },
        "id": "DT8d71ChLibW",
        "outputId": "dde3877d-2fab-4f6a-88ef-b2a97cbdda09"
      },
      "execution_count": null,
      "outputs": [
        {
          "output_type": "stream",
          "name": "stdout",
          "text": [
            "Scheduling jobs.. \n",
            "Starting jobs.. \n",
            "Waiting for jobs to finish.. \n",
            "All done.\n"
          ]
        },
        {
          "output_type": "execute_result",
          "data": {
            "text/plain": [
              "[]"
            ]
          },
          "metadata": {},
          "execution_count": 105
        }
      ]
    },
    {
      "cell_type": "code",
      "source": [
        "def split_data(data, split_points):\n",
        "    partitions = []\n",
        "    n = 0\n",
        "    for i in split_points:\n",
        "        partitions.append(data[n:i])\n",
        "        n = i\n",
        "    partitions.append(data[n:])\n",
        "    return partitions\n",
        "\n",
        "data = ['a', 'b', 'c','7', 'd', 'e', 'g','5']\n",
        "partitioned_data = split_data(data, [3])\n",
        "partitioned_data"
      ],
      "metadata": {
        "colab": {
          "base_uri": "https://localhost:8080/"
        },
        "id": "HLkjgkk1N7D9",
        "outputId": "e64f5a4f-ed68-440b-8d85-e2b6dd05d609"
      },
      "execution_count": null,
      "outputs": [
        {
          "output_type": "execute_result",
          "data": {
            "text/plain": [
              "[['a', 'b', 'c'], ['7', 'd', 'e', 'g', '5']]"
            ]
          },
          "metadata": {},
          "execution_count": 137
        }
      ]
    },
    {
      "cell_type": "code",
      "source": [
        "from threading import Thread\n",
        "\n",
        "def parallel_reduce(f, partitions):\n",
        "\n",
        "    n = len(partitions)\n",
        "    results = [None] * n\n",
        "    threads = [None] * n\n",
        "\n",
        "    def job(i):\n",
        "        results[i] = reduce(f, partitions[i])\n",
        "\n",
        "    for i in range(n):\n",
        "        threads[i] = Thread(target = lambda: job(i))\n",
        "        threads[i].start()\n",
        "\n",
        "    for i in range(n):\n",
        "        threads[i].join()\n",
        "\n",
        "    return reduce(f, results)\n",
        "\n",
        "parallel_reduce(lambda x, y: x + y, partitioned_data)"
      ],
      "metadata": {
        "colab": {
          "base_uri": "https://localhost:8080/",
          "height": 35
        },
        "id": "seQ9FouCOKUs",
        "outputId": "7ff0f68d-8710-4d44-9429-9692ab28e781"
      },
      "execution_count": null,
      "outputs": [
        {
          "output_type": "execute_result",
          "data": {
            "text/plain": [
              "'abc7deg5'"
            ],
            "application/vnd.google.colaboratory.intrinsic+json": {
              "type": "string"
            }
          },
          "metadata": {},
          "execution_count": 142
        }
      ]
    }
  ]
}